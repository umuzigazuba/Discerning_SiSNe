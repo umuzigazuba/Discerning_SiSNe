{
 "cells": [
  {
   "cell_type": "code",
   "execution_count": 27,
   "metadata": {},
   "outputs": [],
   "source": [
    "#import modules\n",
    "import pandas as pd\n",
    "\n",
    "#list all csv files only\n",
    "csv_files = ['Data/tns_search (14).csv', 'Data/tns_search (5).csv', 'Data/tns_search (6).csv', 'Data/tns_search (7).csv', 'Data/tns_search (8).csv', 'Data/tns_search (9).csv']\n"
   ]
  },
  {
   "cell_type": "code",
   "execution_count": 28,
   "metadata": {},
   "outputs": [],
   "source": [
    "df_append = pd.DataFrame()\n",
    "\n",
    "#append all files together\n",
    "for file in csv_files:\n",
    "    df_temp = pd.read_csv(file)\n",
    "    df_append = pd.concat([df_append, df_temp], ignore_index=True)\n"
   ]
  },
  {
   "cell_type": "code",
   "execution_count": 29,
   "metadata": {},
   "outputs": [],
   "source": [
    "df_append.to_csv(\"Data/ZTF_info.csv\")"
   ]
  },
  {
   "cell_type": "code",
   "execution_count": 34,
   "metadata": {},
   "outputs": [],
   "source": [
    "info = pd.read_csv(\"Data/ZTF_info.csv\")\n",
    "downloading_info = pd.concat([info[\"Disc. Internal Name\"], info[\"Discovery Date (UT)\"], info[\"RA\"], info[\"DEC\"]], axis = 1, ignore_index = True)\n"
   ]
  },
  {
   "cell_type": "code",
   "execution_count": 41,
   "metadata": {},
   "outputs": [],
   "source": [
    "import numpy as np\n",
    "np.savetxt(\"ZTF_api/ZTF_info.txt\", downloading_info.values, fmt = \"%s\")"
   ]
  },
  {
   "cell_type": "code",
   "execution_count": 66,
   "metadata": {},
   "outputs": [],
   "source": [
    "from astropy.time import Time\n",
    "\n",
    "times = Time(list(info[\"Discovery Date (UT)\"]), format = \"iso\", scale='utc')\n",
    "times_JD = times.jd\n",
    "times_JD_start = times_JD - 100\n",
    "times_JD_end = times_JD + 500"
   ]
  },
  {
   "cell_type": "code",
   "execution_count": 47,
   "metadata": {},
   "outputs": [],
   "source": [
    "from astropy.coordinates import SkyCoord\n",
    "from astropy import units as u\n",
    "ra_dec = SkyCoord(info[\"RA\"].values, info[\"DEC\"].values, unit=(u.hourangle, u.deg))\n",
    "ra_degree = ra_dec.ra.degree\n",
    "dec_degree = ra_dec.dec.degree"
   ]
  },
  {
   "cell_type": "code",
   "execution_count": null,
   "metadata": {},
   "outputs": [],
   "source": [
    "downloading_info = np.column_stack((ra_degree[1:3], dec_degree[1:3], times_JD_start[1:3], times_JD_end[1:3]))\n",
    "np.savetxt(\"ZTF_api/ZTF_info.txt\", downloading_info, fmt = \"%s\")"
   ]
  },
  {
   "cell_type": "code",
   "execution_count": 8,
   "metadata": {},
   "outputs": [],
   "source": [
    "import os\n",
    "\n",
    "# Specify the directory where the files are located\n",
    "directory = \"Data/ATLAS_forced_photometry_data/\"\n",
    "\n",
    "# Loop through each file in the directory\n",
    "for filename in os.listdir(directory):\n",
    "    # Check if the file matches the pattern \"SN xxxx.csv\"\n",
    "    if filename.startswith(\"SN \") and filename.endswith(\".csv\"):\n",
    "        # Create the new filename by replacing the space with an underscore\n",
    "        new_filename = filename.replace(\" \", \"_\")\n",
    "        \n",
    "        # Get the full path of the old and new filenames\n",
    "        old_file = os.path.join(directory, filename)\n",
    "        new_file = os.path.join(directory, new_filename)\n",
    "        \n",
    "        # Rename the file\n",
    "        os.rename(old_file, new_file)\n"
   ]
  },
  {
   "cell_type": "code",
   "execution_count": 132,
   "metadata": {},
   "outputs": [],
   "source": [
    "import numpy as np\n",
    "\n",
    "atlas_id = \"SN_2022ozx\"\n",
    "atlas_data =  np.loadtxt(f\"Data/ATLAS_forced_photometry_data/cleaned_and_stacked/{atlas_id}_atlas_fp_stacked_2_days.txt\", delimiter = \",\", dtype = str)"
   ]
  },
  {
   "cell_type": "code",
   "execution_count": 133,
   "metadata": {},
   "outputs": [],
   "source": [
    "time = atlas_data[1:, 0].astype(np.float32)\n",
    "flux = atlas_data[1:, 1].astype(np.float32)\n",
    "fluxerr = atlas_data[1:, 2].astype(np.float32)\n",
    "filter = atlas_data[1:, 3].astype(str)"
   ]
  },
  {
   "cell_type": "code",
   "execution_count": 134,
   "metadata": {},
   "outputs": [],
   "source": [
    "delete_indices = np.where(fluxerr > 40)\n",
    "\n",
    "time = np.delete(time, delete_indices)\n",
    "flux = np.delete(flux, delete_indices)\n",
    "fluxerr = np.delete(fluxerr, delete_indices)\n",
    "filter = np.delete(filter, delete_indices)\n",
    "\n",
    "filter_f1 = np.where(filter == \"o\")\n",
    "filter_f2 = np.where(filter == \"c\")"
   ]
  },
  {
   "cell_type": "code",
   "execution_count": 135,
   "metadata": {},
   "outputs": [],
   "source": [
    "def find_baseline(time, flux, filter_f1, filter_f2):\n",
    "\n",
    "    past_and_future_epochs = {\"Past Future f1\":[], \"Past Future f2\":[], \"First SN epoch f1\":[], \"Last SN epoch f1\":[], \"First SN epoch f2\":[], \"Last SN epoch f2\":[]}\n",
    "\n",
    "    # Past\n",
    "    for filter_number, filter_idx in enumerate([filter_f1, filter_f2]):\n",
    "\n",
    "        time_filter, flux_filter = time[filter_idx], flux[filter_idx]\n",
    "\n",
    "        peak_idx = np.argmax(flux_filter)\n",
    "        num_to_cut = 0\n",
    "        \n",
    "        # Check if there is pre-peak data \n",
    "        if peak_idx == 0:\n",
    "            past_and_future_epochs[f\"First SN epoch f{filter_number + 1}\"] = filter_idx[0][0]\n",
    "            continue\n",
    "\n",
    "        # Slope at which the data is no longer constant\n",
    "        m_cutoff = 0.1 * np.abs((flux_filter[0] - flux_filter[peak_idx]) / (time_filter[0] - time_filter[peak_idx]))\n",
    "\n",
    "        #Calculate the slope of all data before the peak\n",
    "        for cut_idx in range(1, peak_idx):\n",
    "\n",
    "            m = np.abs((flux_filter[0] - flux_filter[cut_idx]) / (time_filter[0] - time_filter[cut_idx]))\n",
    "\n",
    "            if m < m_cutoff:\n",
    "                num_to_cut = cut_idx\n",
    "\n",
    "        if num_to_cut > 0:\n",
    "            past_and_future_epochs[f\"Past Future f{filter_number + 1}\"].extend(filter_idx[0][:(num_to_cut + 1)])\n",
    "            past_and_future_epochs[f\"First SN epoch f{filter_number + 1}\"] = filter_idx[0][num_to_cut + 1]\n",
    "\n",
    "        # There is no pre-supernova data\n",
    "        else:\n",
    "            past_and_future_epochs[f\"First SN epoch f{filter_number + 1}\"] = filter_idx[0][0]\n",
    "\n",
    "    # Future\n",
    "    for filter_number, filter_idx in enumerate([filter_f1, filter_f2]):\n",
    "\n",
    "        time_filter, flux_filter = time[filter_idx], flux[filter_idx]\n",
    "\n",
    "        peak_idx = np.argmax(flux_filter)\n",
    "        first_post_peak_idx = len(flux_filter) - np.argmax(flux_filter)\n",
    "        num_to_cut = 0\n",
    "        \n",
    "        # Check if there is post-peak data \n",
    "        if peak_idx == len(flux_filter) - 1:\n",
    "            past_and_future_epochs[f\"Last SN epoch f{filter_number + 1}\"] = filter_idx[0][len(flux_filter) - 1]\n",
    "            continue\n",
    "\n",
    "        # Slope at which the data is no longer constant\n",
    "        m_cutoff = 0.1 * np.abs((flux_filter[-1] - flux_filter[peak_idx]) / (time_filter[-1] - time_filter[peak_idx]))\n",
    "\n",
    "        #Calculate the slope of all data before the peak\n",
    "        for idx in range(2, first_post_peak_idx):\n",
    "            \n",
    "            cut_idx = -1 * idx\n",
    "            m = np.abs((flux_filter[-1] - flux_filter[cut_idx]) / (time_filter[-1] - time_filter[cut_idx]))\n",
    "\n",
    "            if m < m_cutoff:\n",
    "                num_to_cut = idx\n",
    "\n",
    "        if num_to_cut > 0:\n",
    "            past_and_future_epochs[f\"Past Future f{filter_number + 1}\"].extend(filter_idx[0][-num_to_cut:])\n",
    "            past_and_future_epochs[f\"Last SN epoch f{filter_number + 1}\"] = filter_idx[0][-num_to_cut - 1]\n",
    "\n",
    "        # There is no post-supernova data\n",
    "        else:\n",
    "            past_and_future_epochs[f\"Last SN epoch f{filter_number + 1}\"] = filter_idx[0][len(flux_filter) - 1]\n",
    "    \n",
    "    return past_and_future_epochs"
   ]
  },
  {
   "cell_type": "code",
   "execution_count": 136,
   "metadata": {},
   "outputs": [],
   "source": [
    "past_and_future = find_baseline(time, flux, filter_f1, filter_f2)"
   ]
  },
  {
   "cell_type": "code",
   "execution_count": 137,
   "metadata": {},
   "outputs": [],
   "source": [
    "def subtract_baseline(flux, filter_f1, filter_f2, past_and_future_epochs):\n",
    "\n",
    "    if len(past_and_future_epochs[\"Past Future f1\"]) != 0:\n",
    "\n",
    "        average_flux_baseline_f1 = np.mean(flux[past_and_future_epochs[\"Past Future f1\"]])\n",
    "\n",
    "        flux[filter_f1] -= average_flux_baseline_f1\n",
    "\n",
    "    if len(past_and_future_epochs[\"Past Future f2\"]) != 0:\n",
    "\n",
    "        average_flux_baseline_f2 = np.mean(flux[past_and_future_epochs[\"Past Future f2\"]])\n",
    "\n",
    "        flux[filter_f2] -= average_flux_baseline_f2\n",
    "\n",
    "    return flux"
   ]
  },
  {
   "cell_type": "code",
   "execution_count": 138,
   "metadata": {},
   "outputs": [],
   "source": [
    "flux = subtract_baseline(flux, filter_f1, filter_f2, past_and_future)"
   ]
  },
  {
   "cell_type": "code",
   "execution_count": 139,
   "metadata": {},
   "outputs": [
    {
     "data": {
      "image/png": "[encoded data removed]",
      "text/plain": [
       "<Figure size 640x480 with 1 Axes>"
      ]
     },
     "metadata": {},
     "output_type": "display_data"
    }
   ],
   "source": [
    "import matplotlib.pyplot as plt\n",
    "\n",
    "plt.scatter(time[filter_f1], flux[filter_f1], c = \"tab:blue\", alpha = 0.3)\n",
    "plt.scatter(time[filter_f2], flux[filter_f2], c = \"tab:orange\", alpha = 0.3)\n",
    "\n",
    "plt.scatter(time[past_and_future[\"Past Future f1\"]], flux[past_and_future[\"Past Future f1\"]], c = \"tab:blue\")\n",
    "plt.scatter(time[past_and_future[\"Past Future f2\"]], flux[past_and_future[\"Past Future f2\"]], c = \"tab:orange\")\n",
    "\n",
    "plt.show()"
   ]
  },
  {
   "cell_type": "code",
   "execution_count": 147,
   "metadata": {},
   "outputs": [],
   "source": [
    "import numpy as np\n",
    "\n",
    "# ztf_data =  np.load(\"forcedphotometry_req00387499_lc.txt\")\n",
    "\n",
    "with open(\"forcedphotometry_req00387500_lc.txt\") as f:\n",
    "    lines = (line for line in f if not line.startswith('#'))\n",
    "    ztf_data = np.genfromtxt(lines, skip_header = 1, missing_values = \"null\", dtype = \"str\")\n"
   ]
  },
  {
   "cell_type": "code",
   "execution_count": 153,
   "metadata": {},
   "outputs": [],
   "source": [
    "time = np.array(ztf_data[:, 22])\n",
    "differential_flux = np.array(ztf_data[:, 24])\n",
    "filter = np.array(ztf_data[:, 4])\n",
    "\n",
    "missing_data = (differential_flux == \"null\")\n",
    "\n",
    "time = time[~missing_data].astype(np.float32) -  2400000.5\n",
    "differential_flux = differential_flux[~missing_data].astype(np.float32)\n",
    "filter = filter[~missing_data]\n",
    "\n",
    "filter_f1 = np.where(filter == \"ZTF_r\")\n",
    "filter_f2 = np.where(filter == \"ZTF_g\")"
   ]
  },
  {
   "cell_type": "code",
   "execution_count": 157,
   "metadata": {},
   "outputs": [],
   "source": [
    "past_and_future = find_baseline(time, differential_flux, filter_f1, filter_f2)\n",
    "differential_flux = subtract_baseline(differential_flux, filter_f1, filter_f2, past_and_future)"
   ]
  },
  {
   "cell_type": "code",
   "execution_count": 158,
   "metadata": {},
   "outputs": [
    {
     "data": {
      "image/png": "[encoded data removed]",
      "text/plain": [
       "<Figure size 640x480 with 1 Axes>"
      ]
     },
     "metadata": {},
     "output_type": "display_data"
    }
   ],
   "source": [
    "import matplotlib.pyplot as plt\n",
    "\n",
    "plt.scatter(time[filter_f1], differential_flux[filter_f1], c = \"tab:blue\", alpha = 0.3)\n",
    "plt.scatter(time[filter_f2], differential_flux[filter_f2], c = \"tab:orange\", alpha = 0.3)\n",
    "\n",
    "plt.scatter(time[past_and_future[\"Past Future f1\"]], differential_flux[past_and_future[\"Past Future f1\"]], c = \"tab:blue\")\n",
    "plt.scatter(time[past_and_future[\"Past Future f2\"]], differential_flux[past_and_future[\"Past Future f2\"]], c = \"tab:orange\")\n",
    "\n",
    "plt.show()"
   ]
  },
  {
   "cell_type": "code",
   "execution_count": null,
   "metadata": {},
   "outputs": [],
   "source": []
  },
  {
   "cell_type": "code",
   "execution_count": null,
   "metadata": {},
   "outputs": [],
   "source": []
  }
 ],
 "metadata": {
  "kernelspec": {
   "display_name": "Python 3",
   "language": "python",
   "name": "python3"
  },
  "language_info": {
   "codemirror_mode": {
    "name": "ipython",
    "version": 3
   },
   "file_extension": ".py",
   "mimetype": "text/x-python",
   "name": "python",
   "nbconvert_exporter": "python",
   "pygments_lexer": "ipython3",
   "version": "3.8.10"
  }
 },
 "nbformat": 4,
 "nbformat_minor": 2
}
