{
 "cells": [
  {
   "cell_type": "code",
   "execution_count": 27,
   "metadata": {},
   "outputs": [],
   "source": [
    "#import modules\n",
    "import pandas as pd\n",
    "\n",
    "#list all csv files only\n",
    "csv_files = ['Data/tns_search (14).csv', 'Data/tns_search (5).csv', 'Data/tns_search (6).csv', 'Data/tns_search (7).csv', 'Data/tns_search (8).csv', 'Data/tns_search (9).csv']\n"
   ]
  },
  {
   "cell_type": "code",
   "execution_count": 28,
   "metadata": {},
   "outputs": [],
   "source": [
    "df_append = pd.DataFrame()\n",
    "\n",
    "#append all files together\n",
    "for file in csv_files:\n",
    "    df_temp = pd.read_csv(file)\n",
    "    df_append = pd.concat([df_append, df_temp], ignore_index=True)\n"
   ]
  },
  {
   "cell_type": "code",
   "execution_count": 29,
   "metadata": {},
   "outputs": [],
   "source": [
    "df_append.to_csv(\"Data/ZTF_info.csv\")"
   ]
  },
  {
   "cell_type": "code",
   "execution_count": 240,
   "metadata": {},
   "outputs": [],
   "source": [
    "import pandas as pd\n",
    "\n",
    "info = pd.read_csv(\"Data/ZTF_info.csv\")\n"
   ]
  },
  {
   "cell_type": "code",
   "execution_count": 241,
   "metadata": {},
   "outputs": [],
   "source": [
    "from astropy.time import Time\n",
    "\n",
    "times = Time(list(info[\"Discovery Date (UT)\"]), format = \"iso\", scale='utc')\n",
    "times_JD = times.jd\n",
    "times_JD_start = times_JD - 100\n",
    "times_JD_end = times_JD + 500"
   ]
  },
  {
   "cell_type": "code",
   "execution_count": 242,
   "metadata": {},
   "outputs": [],
   "source": [
    "from astropy.coordinates import SkyCoord\n",
    "from astropy import units as u\n",
    "ra_dec = SkyCoord(info[\"RA\"].values, info[\"DEC\"].values, unit=(u.hourangle, u.deg))\n",
    "ra_degree = ra_dec.ra.degree\n",
    "dec_degree = ra_dec.dec.degree"
   ]
  },
  {
   "cell_type": "code",
   "execution_count": 245,
   "metadata": {},
   "outputs": [],
   "source": [
    "import numpy as np\n",
    "\n",
    "nan_names = (info[\"Disc. Internal Name\"].values != \"nan\")\n",
    "downloading_info = np.column_stack((info[\"Disc. Internal Name\"].values[nan_names], ra_degree[nan_names], dec_degree[nan_names], times_JD_start[nan_names], times_JD_end[nan_names]))\n",
    "np.savetxt(\"ZTF_api/ZTF_info.txt\", downloading_info, fmt = \"%s\")"
   ]
  },
  {
   "cell_type": "code",
   "execution_count": 8,
   "metadata": {},
   "outputs": [],
   "source": [
    "import os\n",
    "\n",
    "# Specify the directory where the files are located\n",
    "directory = \"Data/ATLAS_forced_photometry_data/\"\n",
    "\n",
    "# Loop through each file in the directory\n",
    "for filename in os.listdir(directory):\n",
    "    # Check if the file matches the pattern \"SN xxxx.csv\"\n",
    "    if filename.startswith(\"SN \") and filename.endswith(\".csv\"):\n",
    "        # Create the new filename by replacing the space with an underscore\n",
    "        new_filename = filename.replace(\" \", \"_\")\n",
    "        \n",
    "        # Get the full path of the old and new filenames\n",
    "        old_file = os.path.join(directory, filename)\n",
    "        new_file = os.path.join(directory, new_filename)\n",
    "        \n",
    "        # Rename the file\n",
    "        os.rename(old_file, new_file)\n"
   ]
  },
  {
   "cell_type": "code",
   "execution_count": 59,
   "metadata": {},
   "outputs": [],
   "source": [
    "import numpy as np\n",
    "\n",
    "atlas_id = \"SN_2019mtk\"\n",
    "atlas_data =  np.loadtxt(f\"Data/ATLAS_forced_photometry_data/cleaned_and_stacked/{atlas_id}_atlas_fp_stacked_2_days.txt\", delimiter = \",\", dtype = str)"
   ]
  },
  {
   "cell_type": "code",
   "execution_count": 60,
   "metadata": {},
   "outputs": [],
   "source": [
    "time = atlas_data[1:, 0].astype(np.float32)\n",
    "flux = atlas_data[1:, 1].astype(np.float32)\n",
    "fluxerr = atlas_data[1:, 2].astype(np.float32)\n",
    "filter = atlas_data[1:, 3].astype(str)"
   ]
  },
  {
   "cell_type": "code",
   "execution_count": 61,
   "metadata": {},
   "outputs": [],
   "source": [
    "delete_indices = np.where(fluxerr > 40)\n",
    "\n",
    "time = np.delete(time, delete_indices)\n",
    "flux = np.delete(flux, delete_indices)\n",
    "fluxerr = np.delete(fluxerr, delete_indices)\n",
    "filter = np.delete(filter, delete_indices)\n",
    "\n",
    "filter_f1 = np.where(filter == \"o\")\n",
    "filter_f2 = np.where(filter == \"c\")\n",
    "\n",
    "time = np.concatenate((time[filter_f1], time[filter_f2]))\n",
    "flux = np.concatenate((flux[filter_f1], flux[filter_f2]))\n",
    "fluxerr = np.concatenate((fluxerr[filter_f1], fluxerr[filter_f2]))\n",
    "filter = np.concatenate(([\"o\"] * len(filter[filter_f1]), [\"c\"] * len(filter[filter_f2])))\n",
    "\n",
    "filter_f1 = np.where(filter == \"o\")\n",
    "filter_f2 = np.where(filter == \"c\")"
   ]
  },
  {
   "cell_type": "code",
   "execution_count": 1,
   "metadata": {},
   "outputs": [],
   "source": [
    "def find_baseline(flux, filter_f1, filter_f2, window = 5):\n",
    "\n",
    "    past_and_future_epochs =  {\"Extrema f1\":[], \"Extrema f2\":[]}\n",
    "\n",
    "    for filter_number, filter_idx in enumerate([filter_f1, filter_f2]):\n",
    "        flux_filter = flux[filter_idx]\n",
    "\n",
    "        peak_idx = np.argmax(flux_filter)\n",
    "        beginning_SN = 0\n",
    "\n",
    "        first_section = flux_filter[:window]\n",
    "        first_mean = np.mean(first_section)\n",
    "\n",
    "        for idx in range(window, peak_idx, window):\n",
    "\n",
    "            next_section = flux_filter[idx:idx + window]\n",
    "            next_mean = np.mean(next_section)\n",
    "\n",
    "            if np.abs(next_mean - first_mean) > window:\n",
    "                beginning_SN = idx\n",
    "                break\n",
    "\n",
    "        past_and_future_epochs[f\"Extrema f{filter_number + 1}\"].append(beginning_SN)\n",
    "\n",
    "    # Future\n",
    "    for filter_number, filter_idx in enumerate([filter_f1, filter_f2]):\n",
    "\n",
    "        flux_filter = flux[filter_idx]\n",
    "\n",
    "        peak_idx = np.argmax(flux_filter)\n",
    "        end_SN = -1\n",
    "\n",
    "        last_section = flux_filter[-window:]\n",
    "        last_mean = np.mean(last_section)\n",
    "\n",
    "        for idx in range(-window, - (len(flux_filter) - peak_idx), -window):\n",
    "\n",
    "            next_section = flux_filter[idx - window : idx]\n",
    "            next_mean = np.mean(next_section)\n",
    "\n",
    "            if np.abs(next_mean - last_mean) > window:\n",
    "                end_SN = idx\n",
    "                break\n",
    "            \n",
    "        past_and_future_epochs[f\"Extrema f{filter_number + 1}\"].append(end_SN)\n",
    "\n",
    "    return past_and_future_epochs"
   ]
  },
  {
   "cell_type": "code",
   "execution_count": 63,
   "metadata": {},
   "outputs": [
    {
     "data": {
      "text/plain": [
       "{'Extrema f1': [5, -5], 'Extrema f2': [5, -5]}"
      ]
     },
     "execution_count": 63,
     "metadata": {},
     "output_type": "execute_result"
    }
   ],
   "source": [
    "past_and_future = find_baseline(flux, filter_f1, filter_f2)\n",
    "past_and_future"
   ]
  },
  {
   "cell_type": "code",
   "execution_count": 2,
   "metadata": {},
   "outputs": [],
   "source": [
    "def subtract_baseline(flux, filter_f1, filter_f2, past_and_future_epochs):\n",
    "\n",
    "    if len(past_and_future_epochs[\"Extrema f1\"]) != 0:\n",
    "\n",
    "        baseline_f1 = np.concatenate((flux[filter_f1][:past_and_future_epochs[\"Extrema f1\"][0]], flux[filter_f1][past_and_future_epochs[\"Extrema f1\"][1]:]))\n",
    "        average_flux_baseline_f1 = np.mean(baseline_f1)\n",
    "\n",
    "        flux[filter_f1] -= average_flux_baseline_f1\n",
    "\n",
    "    if len(past_and_future_epochs[\"Extrema f2\"]) != 0:\n",
    "\n",
    "        baseline_f2 = np.concatenate((flux[filter_f2][:past_and_future_epochs[\"Extrema f2\"][0]], flux[filter_f2][past_and_future_epochs[\"Extrema f2\"][1]:]))\n",
    "        average_flux_baseline_f2 = np.mean(baseline_f2)\n",
    "\n",
    "        flux[filter_f2] -= average_flux_baseline_f2\n",
    "\n",
    "    return flux"
   ]
  },
  {
   "cell_type": "code",
   "execution_count": 65,
   "metadata": {},
   "outputs": [],
   "source": [
    "flux = subtract_baseline(flux, filter_f1, filter_f2, past_and_future)"
   ]
  },
  {
   "cell_type": "code",
   "execution_count": 66,
   "metadata": {},
   "outputs": [
    {
     "data": {
      "text/plain": [
       "array([ 2, -2,  2, -1])"
      ]
     },
     "execution_count": 66,
     "metadata": {},
     "output_type": "execute_result"
    }
   ],
   "source": [
    "confident_detections = flux/fluxerr > 3\n",
    "\n",
    "time = time[confident_detections]\n",
    "flux = flux[confident_detections]\n",
    "fluxerr = fluxerr[confident_detections]\n",
    "filter = filter[confident_detections]\n",
    "\n",
    "filter_f1 = np.where(filter == \"o\")\n",
    "filter_f2 = np.where(filter == \"c\")\n",
    "\n",
    "new_past_and_future = find_baseline(flux, filter_f1, filter_f2, 2)\n",
    "new_past_and_future = np.concatenate((new_past_and_future[\"Extrema f1\"], new_past_and_future[\"Extrema f2\"]))\n",
    "\n",
    "new_past_and_future"
   ]
  },
  {
   "cell_type": "code",
   "execution_count": 67,
   "metadata": {},
   "outputs": [
    {
     "data": {
      "text/plain": [
       "<matplotlib.lines.Line2D at 0x7f488e299fd0>"
      ]
     },
     "execution_count": 67,
     "metadata": {},
     "output_type": "execute_result"
    },
    {
     "data": {
      "image/png": "[encoded data removed]",
      "text/plain": [
       "<Figure size 640x480 with 1 Axes>"
      ]
     },
     "metadata": {},
     "output_type": "display_data"
    }
   ],
   "source": [
    "import matplotlib.pyplot as plt\n",
    "\n",
    "plt.errorbar(time[filter_f1], flux[filter_f1], fluxerr[filter_f1], fmt = \"o\", markersize = 4, capsize = 2, color = \"tab:blue\", alpha = 0.3)\n",
    "plt.errorbar(time[filter_f2], flux[filter_f2], fluxerr[filter_f2], fmt = \"o\", markersize = 4, capsize = 2, color = \"tab:orange\", alpha = 0.3)\n",
    "\n",
    "plt.axvline(time[filter_f1][new_past_and_future[0]], color = \"tab:blue\")\n",
    "plt.axvline(time[filter_f2][new_past_and_future[2]], color = \"tab:orange\")\n",
    "\n",
    "\n",
    "plt.axvline(time[filter_f1][new_past_and_future[1]], color = \"tab:blue\")\n",
    "plt.axvline(time[filter_f2][new_past_and_future[3]], color = \"tab:orange\")"
   ]
  },
  {
   "cell_type": "code",
   "execution_count": 204,
   "metadata": {},
   "outputs": [],
   "source": [
    "import numpy as np\n",
    "import pandas as pd\n",
    "\n",
    "# ztf_data =  np.load(\"forcedphotometry_req00387499_lc.txt\")\n",
    "name = \"ZTF23absbzli\"\n",
    "with open(f\"Data/ZTF_forced_photometry_data/raw/{name}.txt\") as f:\n",
    "    lines = (line for line in f if not line.startswith('#'))\n",
    "    ztf_data = np.genfromtxt(lines, skip_header = 1, missing_values = \"null\", dtype = \"str\")\n"
   ]
  },
  {
   "cell_type": "code",
   "execution_count": 205,
   "metadata": {},
   "outputs": [],
   "source": [
    "import astropy.units as u\n",
    "from astropy.time import Time\n",
    "from astropy.coordinates import EarthLocation, SkyCoord, AltAz\n",
    "\n",
    "def calculate_airmass(ra, dec, time):\n",
    "\n",
    "    palomar = EarthLocation.of_site('Palomar')\n",
    "\n",
    "    target = SkyCoord(ra, dec, unit = (u.hourangle, u.deg))\n",
    "    time = Time(time, format = \"jd\")\n",
    "\n",
    "    target_in_altaz = target.transform_to(AltAz(obstime = time, location = palomar))\n",
    "    airmass = target_in_altaz.secz.value\n",
    "\n",
    "    return airmass"
   ]
  },
  {
   "cell_type": "code",
   "execution_count": 206,
   "metadata": {},
   "outputs": [],
   "source": [
    "time = np.array(ztf_data[:, 22])\n",
    "differential_flux = np.array(ztf_data[:, 24])\n",
    "differential_fluxerr = np.array(ztf_data[:, 25])\n",
    "filter = np.array(ztf_data[:, 4])\n",
    "\n",
    "# Retrieve supernova properties\n",
    "ztf_information = pd.read_csv(\"Data/ZTF_info.csv\")\n",
    "SN_idx = np.where(ztf_information[\"Disc. Internal Name\"] == name)\n",
    "\n",
    "ra = ztf_information[\"RA\"].values[SN_idx][0]\n",
    "dec = ztf_information[\"DEC\"].values[SN_idx][0]\n",
    "\n",
    "infobitssci = np.array(ztf_data[:, 6]).astype(np.float32)\n",
    "scisigpix = np.array(ztf_data[:, 9]).astype(np.float32)\n",
    "sciinpseeing = np.array(ztf_data[:, 7]).astype(np.float32)\n",
    "status = np.array(ztf_data[:, -1]).astype(str)\n",
    "\n",
    "ccd = np.array(ztf_data[:, 2])\n",
    "ccd_amplifier = np.array(ztf_data[:, 3])\n",
    "ncalmatches = np.array(ztf_data[:, 15])\n",
    "\n",
    "zero_point = np.array(ztf_data[:, 10])\n",
    "zero_point_rms = np.array(ztf_data[:, 12])\n",
    "reduced_chi_squared = np.array(ztf_data[:, 27])\n",
    "\n",
    "# Filter out bad processing epochs\n",
    "bad_observations = np.where(((status != \"0\") & (status != \"56\") & (status != \"57\") & (status != \"62\") & (status != \"65\")))[0]\n",
    "\n",
    "# Filter out data with missing flux measurements\n",
    "missing_data = np.where(differential_flux == \"null\")[0]\n",
    "\n",
    "# Filter out data of a bad quality (possibly contaminated by clouds or the moon)\n",
    "bad_infobitssci = np.where(infobitssci > 0)[0]\n",
    "bad_scisigpix = np.where(scisigpix > 25)[0]\n",
    "bad_sciinpseeing = np.where(sciinpseeing > 4)[0]\n",
    "\n",
    "indices_to_delete = np.sort(np.unique(np.concatenate((bad_observations, missing_data, bad_infobitssci, bad_scisigpix, bad_sciinpseeing))))\n",
    "\n",
    "time = np.delete(time, indices_to_delete).astype(np.float32)\n",
    "differential_flux = np.delete(differential_flux, indices_to_delete).astype(np.float32)\n",
    "differential_fluxerr = np.delete(differential_fluxerr, indices_to_delete).astype(np.float32)\n",
    "filter = np.delete(filter, indices_to_delete)\n",
    "\n",
    "ccd = np.delete(ccd, indices_to_delete).astype(np.float32)\n",
    "ccd_amplifier = np.delete(ccd_amplifier, indices_to_delete).astype(np.float32)\n",
    "ncalmatches = np.delete(ncalmatches, indices_to_delete).astype(np.float32)\n",
    "zero_point = np.delete(zero_point, indices_to_delete).astype(np.float32)\n",
    "zero_point_rms = np.delete(zero_point_rms, indices_to_delete).astype(np.float32)\n",
    "reduced_chi_squared = np.delete(reduced_chi_squared, indices_to_delete).astype(np.float32)\n",
    "\n",
    "filter_f1 = np.where(filter == \"ZTF_r\")\n",
    "filter_f2 = np.where(filter == \"ZTF_g\")\n",
    "\n",
    "# Quality cuts\n",
    "airmass = calculate_airmass(ra, dec, time)\n",
    "rcid = 4 * (ccd - 1) + ccd_amplifier - 1\n",
    "ccd_threshold = pd.read_csv(\"Data/zp_thresholds_quadID.txt\", comment = \"#\", delimiter = \" |\\t\", header = None, engine = \"python\")\n",
    "ccd_threshold.columns = [\"index\", \"g\", \"ignore_1\", \"ignore_2\", \"r\", \"ignore_3\", \"ignore_4\", \"i\"]\n",
    "\n",
    "quality_cuts_f1 = np.where((filter == \"ZTF_r\") & ((zero_point > (26.65 - 0.15 * airmass)) | (zero_point_rms > 0.05) | (ncalmatches < 120) | (zero_point < (ccd_threshold[\"r\"].iloc[rcid].to_numpy() - 0.15 * airmass))))[0]\n",
    "quality_cuts_f2 = np.where((filter == \"ZTF_g\") & ((zero_point > (26.7 - 0.2 * airmass)) | (zero_point_rms > 0.06) | (ncalmatches < 80) | (zero_point < (ccd_threshold[\"g\"].iloc[rcid].to_numpy() - 0.2 * airmass))))[0]\n",
    "\n",
    "indices_to_delete = np.sort(np.unique(np.concatenate((quality_cuts_f1, quality_cuts_f2))))\n",
    "\n",
    "time = np.delete(time, indices_to_delete).astype(np.float32) -  2400000.5\n",
    "differential_flux = np.delete(differential_flux, indices_to_delete).astype(np.float32) / 10\n",
    "differential_fluxerr = np.delete(differential_fluxerr, indices_to_delete).astype(np.float32) / 10\n",
    "filter = np.delete(filter, indices_to_delete)\n",
    "reduced_chi_squared = np.delete(reduced_chi_squared, indices_to_delete).astype(np.float32)\n",
    "\n",
    "filter_f1 = np.where(filter == \"ZTF_r\")\n",
    "filter_f2 = np.where(filter == \"ZTF_g\")"
   ]
  },
  {
   "cell_type": "code",
   "execution_count": 207,
   "metadata": {},
   "outputs": [
    {
     "data": {
      "text/plain": [
       "(139, 139)"
      ]
     },
     "execution_count": 207,
     "metadata": {},
     "output_type": "execute_result"
    }
   ],
   "source": [
    "time = np.concatenate((time[filter_f1], time[filter_f2]))\n",
    "differential_flux = np.concatenate((differential_flux[filter_f1], differential_flux[filter_f2]))\n",
    "differential_fluxerr = np.concatenate((differential_fluxerr[filter_f1], differential_fluxerr[filter_f2]))\n",
    "zero_point = np.concatenate((zero_point[filter_f1], zero_point[filter_f2]))\n",
    "reduced_chi_squared = np.concatenate((reduced_chi_squared[filter_f1], reduced_chi_squared[filter_f2]))\n",
    "filter = np.concatenate(([\"r\"] * len(filter[filter_f1]), [\"g\"] * len(filter[filter_f2])))\n",
    "\n",
    "filter_f1 = np.where(filter == \"r\")\n",
    "filter_f2 = np.where(filter == \"g\")\n",
    "\n",
    "len(differential_fluxerr), len(zero_point)"
   ]
  },
  {
   "cell_type": "code",
   "execution_count": 208,
   "metadata": {},
   "outputs": [],
   "source": [
    "past_and_future = find_baseline(differential_flux, filter_f1, filter_f2)\n",
    "differential_flux = subtract_baseline(differential_flux, filter_f1, filter_f2, past_and_future)\n",
    "\n",
    "past_and_future = np.concatenate((past_and_future[\"Extrema f1\"], past_and_future[\"Extrema f2\"]))"
   ]
  },
  {
   "cell_type": "code",
   "execution_count": 209,
   "metadata": {},
   "outputs": [],
   "source": [
    "def check_flux_uncertainties(fluxerr, reduced_chi_squared):\n",
    "\n",
    "    average_reduced_chi_squared = np.mean(reduced_chi_squared)\n",
    "\n",
    "    if not np.isclose(average_reduced_chi_squared, 1, 0.5):\n",
    "\n",
    "        fluxerr *= np.sqrt(average_reduced_chi_squared)\n",
    "\n",
    "    return fluxerr"
   ]
  },
  {
   "cell_type": "code",
   "execution_count": 210,
   "metadata": {},
   "outputs": [],
   "source": [
    "differential_fluxerr = check_flux_uncertainties(differential_fluxerr, reduced_chi_squared)"
   ]
  },
  {
   "cell_type": "code",
   "execution_count": 211,
   "metadata": {},
   "outputs": [],
   "source": [
    "confident_detections = differential_flux/differential_fluxerr > 3\n",
    "\n",
    "# time = time[confident_detections]\n",
    "# differential_flux = differential_flux[confident_detections]\n",
    "# differential_fluxerr = differential_fluxerr[confident_detections]\n",
    "# filter = filter[confident_detections]\n",
    "\n",
    "confident_filter_f1 = np.where(filter[confident_detections] == \"r\")\n",
    "confident_filter_f2 = np.where(filter[confident_detections] == \"g\")"
   ]
  },
  {
   "cell_type": "code",
   "execution_count": 212,
   "metadata": {},
   "outputs": [
    {
     "data": {
      "text/plain": [
       "array([ 2, -4,  2, -2])"
      ]
     },
     "execution_count": 212,
     "metadata": {},
     "output_type": "execute_result"
    }
   ],
   "source": [
    "new_past_and_future = find_baseline(differential_flux, filter_f1, filter_f2, 2)\n",
    "new_past_and_future = np.concatenate((new_past_and_future[\"Extrema f1\"], new_past_and_future[\"Extrema f2\"]))\n",
    "\n",
    "# time = np.concatenate((time[filter_f1][boundaries[0] : boundaries[1]], time[filter_f2][boundaries[2] : boundaries[3]]))\n",
    "# flux = np.concatenate((flux[filter_f1][boundaries[0] : boundaries[1]], flux[filter_f2][boundaries[2] : boundaries[3]]))\n",
    "# fluxerr = np.concatenate((fluxerr[filter_f1][boundaries[0] : boundaries[1]], fluxerr[filter_f2][boundaries[2] : boundaries[3]]))\n",
    "# filters = np.concatenate((filters[filter_f1][boundaries[0] : boundaries[1]], filters[filter_f2][boundaries[2] : boundaries[3]]))\n",
    "\n",
    "new_past_and_future"
   ]
  },
  {
   "cell_type": "code",
   "execution_count": 213,
   "metadata": {},
   "outputs": [
    {
     "data": {
      "image/png": "[encoded data removed]",
      "text/plain": [
       "<Figure size 640x480 with 1 Axes>"
      ]
     },
     "metadata": {},
     "output_type": "display_data"
    }
   ],
   "source": [
    "import matplotlib.pyplot as plt\n",
    "\n",
    "plt.errorbar(time[filter_f1], differential_flux[filter_f1], differential_fluxerr[filter_f1], fmt = \"o\", markersize = 4, capsize = 2, color = \"tab:blue\", alpha = 0.3)\n",
    "plt.errorbar(time[filter_f2], differential_flux[filter_f2], differential_fluxerr[filter_f2], fmt = \"o\", markersize = 4, capsize = 2, color = \"tab:orange\", alpha = 0.3)\n",
    "\n",
    "plt.errorbar(time[confident_detections][confident_filter_f1], differential_flux[confident_detections][confident_filter_f1], differential_fluxerr[confident_detections][confident_filter_f1], fmt = \"o\", markersize = 4, capsize = 2, color = \"tab:blue\")\n",
    "plt.errorbar(time[confident_detections][confident_filter_f2], differential_flux[confident_detections][confident_filter_f2], differential_fluxerr[confident_detections][confident_filter_f2], fmt = \"o\", markersize = 4, capsize = 2, color = \"tab:orange\")\n",
    "\n",
    "plt.axvline(time[filter_f1][past_and_future[0]], color = \"tab:blue\")\n",
    "plt.axvline(time[filter_f2][past_and_future[2]], color = \"tab:orange\")\n",
    "\n",
    "plt.axvline(time[filter_f1][past_and_future[1]], color = \"tab:blue\")\n",
    "plt.axvline(time[filter_f2][past_and_future[3]], color = \"tab:orange\")\n",
    "\n",
    "# plt.scatter(time[past_and_future[\"Past Future f1\"]], differential_flux[past_and_future[\"Past Future f1\"]], c = \"tab:blue\")\n",
    "# plt.scatter(time[past_and_future[\"Past Future f2\"]], differential_flux[past_and_future[\"Past Future f2\"]], c = \"tab:orange\")\n",
    "\n",
    "plt.show()"
   ]
  },
  {
   "cell_type": "code",
   "execution_count": 27,
   "metadata": {},
   "outputs": [
    {
     "data": {
      "text/plain": [
       "array([ 2, -2,  2, -2])"
      ]
     },
     "execution_count": 27,
     "metadata": {},
     "output_type": "execute_result"
    }
   ],
   "source": [
    "from data_processing import ztf_load_data\n",
    "time, flux, fluxerr, filters, boundaries = ztf_load_data(\"ZTF19acbjddp\")\n",
    "boundaries"
   ]
  },
  {
   "cell_type": "code",
   "execution_count": 15,
   "metadata": {},
   "outputs": [
    {
     "ename": "NameError",
     "evalue": "name 'plt' is not defined",
     "output_type": "error",
     "traceback": [
      "\u001b[0;31m---------------------------------------------------------------------------\u001b[0m",
      "\u001b[0;31mNameError\u001b[0m                                 Traceback (most recent call last)",
      "Cell \u001b[0;32mIn [15], line 1\u001b[0m\n\u001b[0;32m----> 1\u001b[0m \u001b[43mplt\u001b[49m\u001b[38;5;241m.\u001b[39merrorbar(time[filter_f2], differential_flux[filter_f2], differential_fluxerr[filter_f2], fmt \u001b[38;5;241m=\u001b[39m \u001b[38;5;124m\"\u001b[39m\u001b[38;5;124mo\u001b[39m\u001b[38;5;124m\"\u001b[39m, markersize \u001b[38;5;241m=\u001b[39m \u001b[38;5;241m4\u001b[39m, capsize \u001b[38;5;241m=\u001b[39m \u001b[38;5;241m2\u001b[39m, color \u001b[38;5;241m=\u001b[39m \u001b[38;5;124m\"\u001b[39m\u001b[38;5;124mtab:orange\u001b[39m\u001b[38;5;124m\"\u001b[39m, alpha \u001b[38;5;241m=\u001b[39m \u001b[38;5;241m0.3\u001b[39m)\n\u001b[1;32m      2\u001b[0m plt\u001b[38;5;241m.\u001b[39maxvline(time[filter_f2][past_and_future[\u001b[38;5;124m\"\u001b[39m\u001b[38;5;124mExtrema f2\u001b[39m\u001b[38;5;124m\"\u001b[39m][\u001b[38;5;241m0\u001b[39m]], color \u001b[38;5;241m=\u001b[39m \u001b[38;5;124m\"\u001b[39m\u001b[38;5;124mtab:orange\u001b[39m\u001b[38;5;124m\"\u001b[39m)\n\u001b[1;32m      3\u001b[0m plt\u001b[38;5;241m.\u001b[39maxvline(time[filter_f2][past_and_future[\u001b[38;5;124m\"\u001b[39m\u001b[38;5;124mExtrema f2\u001b[39m\u001b[38;5;124m\"\u001b[39m][\u001b[38;5;241m1\u001b[39m]], color \u001b[38;5;241m=\u001b[39m \u001b[38;5;124m\"\u001b[39m\u001b[38;5;124mtab:orange\u001b[39m\u001b[38;5;124m\"\u001b[39m)\n",
      "\u001b[0;31mNameError\u001b[0m: name 'plt' is not defined"
     ]
    }
   ],
   "source": [
    "plt.errorbar(time[filter_f2], differential_flux[filter_f2], differential_fluxerr[filter_f2], fmt = \"o\", markersize = 4, capsize = 2, color = \"tab:orange\", alpha = 0.3)\n",
    "plt.axvline(time[filter_f2][past_and_future[\"Extrema f2\"][0]], color = \"tab:orange\")\n",
    "plt.axvline(time[filter_f2][past_and_future[\"Extrema f2\"][1]], color = \"tab:orange\")\n"
   ]
  },
  {
   "cell_type": "code",
   "execution_count": 234,
   "metadata": {},
   "outputs": [
    {
     "name": "stdout",
     "output_type": "stream",
     "text": [
      "inf 2.4416173\n",
      "inf 2.6553876\n"
     ]
    },
    {
     "name": "stderr",
     "output_type": "stream",
     "text": [
      "/tmp/ipykernel_1114/3317446921.py:13: RuntimeWarning: divide by zero encountered in float_scalars\n",
      "  previous_slope = np.abs((flux_filter[0] - flux_filter[1]) / (time_filter[0] - time_filter[1]))\n",
      "/tmp/ipykernel_1114/3317446921.py:17: RuntimeWarning: divide by zero encountered in float_scalars\n",
      "  next_slope = np.abs((flux_filter[0] - flux_filter[cut_idx]) / (time_filter[0] - time_filter[cut_idx]))\n",
      "/tmp/ipykernel_1114/3317446921.py:19: RuntimeWarning: invalid value encountered in float_scalars\n",
      "  if np.abs(next_slope - previous_slope) > 0.2:\n",
      "/tmp/ipykernel_1114/3317446921.py:36: RuntimeWarning: divide by zero encountered in float_scalars\n",
      "  previous_slope = np.abs((flux_filter[-1] - flux_filter[-2]) / (time_filter[-1] - time_filter[-2]))\n"
     ]
    },
    {
     "data": {
      "text/plain": [
       "<matplotlib.lines.Line2D at 0x7fd34e2e8910>"
      ]
     },
     "execution_count": 234,
     "metadata": {},
     "output_type": "execute_result"
    },
    {
     "data": {
      "image/png": "[encoded data removed]",
      "text/plain": [
       "<Figure size 640x480 with 1 Axes>"
      ]
     },
     "metadata": {},
     "output_type": "display_data"
    }
   ],
   "source": [
    "# baseline = np.concatenate((differential_flux[filter_f2][:beginning_SN], differential_flux[filter_f2][end_SN:]))\n",
    "# average_flux = np.mean(baseline)\n",
    "# differential_flux[filter_f2] -= average_flux\n",
    "\n",
    "past_and_future = find_baseline(time, differential_flux, filter_f1, filter_f2)\n",
    "\n",
    "\n",
    "plt.errorbar(time[filter_f1], differential_flux[filter_f1], differential_fluxerr[filter_f1], fmt = \"o\", markersize = 4, capsize = 2, color = \"tab:blue\", alpha = 0.3)\n",
    "plt.errorbar(time[filter_f2], differential_flux[filter_f2], differential_fluxerr[filter_f2], fmt = \"o\", markersize = 4, capsize = 2, color = \"tab:orange\", alpha = 0.3)\n",
    "\n",
    "\n",
    "plt.axvline(time[filter_f1][past_and_future[0]], color = \"tab:blue\")\n",
    "plt.axvline(time[filter_f2][past_and_future[1]], color = \"tab:orange\")\n",
    "\n",
    "\n",
    "plt.axvline(time[filter_f1][past_and_future[2]], color = \"tab:blue\")\n",
    "plt.axvline(time[filter_f2][past_and_future[3]], color = \"tab:orange\")\n",
    "\n",
    "# print(baseline)\n",
    "# print(average_flux)"
   ]
  },
  {
   "cell_type": "code",
   "execution_count": 235,
   "metadata": {},
   "outputs": [
    {
     "data": {
      "text/plain": [
       "[3, 0, 1, 0, -2, 0, -2, 0]"
      ]
     },
     "execution_count": 235,
     "metadata": {},
     "output_type": "execute_result"
    }
   ],
   "source": [
    "past_and_future"
   ]
  },
  {
   "cell_type": "code",
   "execution_count": 16,
   "metadata": {},
   "outputs": [
    {
     "data": {
      "image/png": "[encoded data removed]",
      "text/plain": [
       "<Figure size 640x480 with 1 Axes>"
      ]
     },
     "metadata": {},
     "output_type": "display_data"
    }
   ],
   "source": [
    "plt.errorbar(time[filter_f1], mag[filter_f1], magerr[filter_f1], fmt = \"o\", markersize = 4, capsize = 2, color = \"tab:blue\", alpha = 0.3)\n",
    "plt.errorbar(time[filter_f2], mag[filter_f2], magerr[filter_f2], fmt = \"o\", markersize = 4, capsize = 2, color = \"tab:orange\", alpha = 0.3)\n",
    "\n",
    "plt.gca().invert_yaxis()\n",
    "\n",
    "plt.show()"
   ]
  },
  {
   "cell_type": "code",
   "execution_count": 67,
   "metadata": {},
   "outputs": [
    {
     "name": "stdout",
     "output_type": "stream",
     "text": [
      "ZTF24aaotlsk [ 2 -2  2 -2]\n",
      "ZTF24aadqwju [ 2 -2  2 -2]\n",
      "ZTF23abgnvya [ 4 -2  2 -2]\n",
      "ZTF23aaynmrz [ 2 -2  2 -2]\n",
      "ZTF23aatabje [ 4 -2  2 -2]\n",
      "ZTF23aagpjyp [ 2 -4  2 -2]\n",
      "ZTF22ablxcrh [ 2 -2  2 -4]\n",
      "ZTF22abfyqzz [ 2 -2  0 -6]\n",
      "ZTF20acqikeh [ 2 -2  2 -2]\n",
      "ZTF20abqkbfx [ 2 -6  2 -4]\n",
      "ZTF19acbjddp [  2 -14   2  -8]\n",
      "ZTF19aaeoqst [ 2 -2  0 -4]\n",
      "ZTF18abuatfp [ 2 -4  4 -2]\n",
      "ZTF24abeivan [ 2 -2  2 -2]\n",
      "ZTF24aatjphv [ 2 -2  2 -2]\n",
      "ZTF24aamiomv [ 2 -2  0 -2]\n",
      "ZTF24aaleeji [ 2 -2  2 -2]\n",
      "ZTF24aaisnlp [ 2 -2  2 -2]\n",
      "ZTF24aaifila [ 2 -2  2 -2]\n",
      "ZTF24aafqxmg [ 0 -2  0 -4]\n",
      "ZTF24aaerzgz [ 2 -2  2 -4]\n",
      "ZTF23absbzli [ 0 -2  2 -2]\n",
      "ZTF23absdibx [ 2 -2  2 -2]\n",
      "ZTF23abqimmw [ 2 -4  2 -2]\n",
      "ZTF23abpznvm [ 2 -2  2 -2]\n",
      "ZTF23abomtge [ 2 -2  2 -2]\n",
      "ZTF23abjvuwc [ 2 -2  2 -2]\n",
      "ZTF23ablutgq [ 0 -2  0 -2]\n",
      "ZTF23abjikaf [ 2 -2  2 -2]\n",
      "ZTF23abkhwgb [ 2 -2  2 -2]\n",
      "ZTF23aaxldkr [ 0 -2  2 -2]\n",
      "ZTF23aavtugd [ 2 -4  2 -2]\n",
      "ZTF23aavvckk [ 2 -2  2 -2]\n",
      "ZTF23aavmthe [ 2 -2  2 -4]\n",
      "ZTF23aatdcey [ 2 -2  2 -2]\n",
      "ZTF23aaquolj [ 2 -2  2 -2]\n",
      "ZTF23aaoyxjb [ 2 -2  2 -2]\n",
      "ZTF23aapsuva [ 2 -4  2 -2]\n",
      "ZTF23aaovtbv [ 2 -2  2 -4]\n",
      "ZTF23aamanim [ 2 -2  2 -1]\n",
      "ZTF23aansdlc [ 2 -2  2 -2]\n",
      "ZTF23aamshoi [ 2 -2  0 -2]\n",
      "ZTF23aamdnfp [ 2 -4  2 -6]\n",
      "ZTF23aalgqsq [ 2 -2  2 -4]\n",
      "ZTF23aajkisd [ 2 -2  2 -2]\n",
      "ZTF23aafmjbx [ 2 -2  2 -4]\n",
      "ZTF23aaecexq [ 2 -2  2 -4]\n",
      "ZTF23aadtvmb [ 0 -2  4 -2]\n",
      "ZTF23aaavyag [ 2 -2  2 -2]\n",
      "ZTF23aaabzea [ 2 -2  2 -2]\n",
      "ZTF23aaarwbd [ 2 -4  2 -2]\n",
      "ZTF22abtsypf [ 2 -2  2 -2]\n",
      "ZTF22abtcpig [ 2 -2  2 -2]\n",
      "ZTF22abizuah [ 0 -4  2 -2]\n",
      "ZTF22abhwlnm [ 2 -2  2 -2]\n",
      "ZTF22abiupzw [ 2 -2  0 -2]\n",
      "ZTF22abghrui [ 2 -2  2 -6]\n",
      "ZTF22abhclyh [ 2 -2  2 -2]\n",
      "ZTF22abfyvhf [ 0 -2  2 -2]\n",
      "ZTF22abfnfud [ 2 -4  2 -2]\n",
      "ZTF22abeyzcl [ 0 -2  2 -2]\n",
      "ZTF22abegzdb [ 2 -4  2 -2]\n",
      "ZTF22abcesfo [ 2 -2  2 -2]\n",
      "ZTF22abajyqm [ 2 -6  2 -2]\n",
      "ZTF22aasoali [  2  -8   2 -12]\n",
      "ZTF22aazbxmi [ 2 -2  2 -2]\n",
      "ZTF22aawfeov [ 2 -2  2 -2]\n",
      "ZTF22aarrawv [ 2 -2  4 -2]\n",
      "ZTF22aapkbkl [ 2 -2  2 -6]\n",
      "ZTF22aaohilj [ 6 -2  2 -6]\n",
      "ZTF22aanuapl [ 2 -4  2 -2]\n",
      "ZTF22aanwibf [ 2 -2  2 -4]\n",
      "ZTF22aanjyae [ 2 -2  2 -2]\n",
      "ZTF22aanesux [  2 -10   4  -6]\n",
      "ZTF22aajjojx [ 2 -2  2 -2]\n",
      "ZTF22aajcupz [ 2 -2  2 -2]\n",
      "ZTF22aahedwz [ 0 -2  0 -2]\n",
      "ZTF22aagvtzz [ 6 -4  2 -2]\n",
      "ZTF22aaetqzk [ 2 -6  2 -2]\n",
      "ZTF21acmfxkc [ 2 -1  2 -1]\n",
      "ZTF21aclknsx [ 2 -2  2 -1]\n",
      "ZTF21achducl [ 2 -4  2 -2]\n",
      "ZTF21achfddh [ 2 -2  0 -2]\n",
      "ZTF21acdqdge [ 2 -4  2 -2]\n",
      "ZTF21accgsbf [ 2 -2  2 -2]\n",
      "ZTF21abxlmuw [ 2 -2  2 -2]\n",
      "ZTF19abstsvm [ 2 -2  2 -2]\n",
      "ZTF21abxtfwo [ 2 -2  2 -6]\n",
      "ZTF21abvuwbp [ 2 -2  2 -2]\n",
      "ZTF21abujgmr [ 2 -6  6 -4]\n",
      "ZTF21abulpnc [ 2 -2  2 -2]\n",
      "ZTF21abtdvpg [ 2 -2  2 -4]\n",
      "ZTF21abpkpuy [ 2 -2  2 -2]\n",
      "ZTF21abpxquj [ 2 -2  2 -4]\n",
      "ZTF21abjvukz [ 2 -2  2 -2]\n",
      "ZTF21abjhiqp [ 2 -1  2 -4]\n",
      "ZTF21abiwpjm [ 2 -2  2 -2]\n",
      "ZTF21abhqqfa [ 2 -2  2 -2]\n",
      "ZTF21abhibro [ 2 -4  2 -2]\n",
      "ZTF21abgjldn [ 2 -4  8 -2]\n",
      "ZTF21abghumo [  2 -12   2  -2]\n",
      "ZTF21abebgfr [ 2 -2  2 -2]\n",
      "ZTF21abccdld [ 2 -4  2 -2]\n",
      "ZTF21aazgkjf [ 6 -2  2 -8]\n",
      "ZTF21aaygmrl [ 2 -2  2 -4]\n",
      "ZTF21aaydxoo [ 2 -2  2 -2]\n",
      "ZTF21aaxtije [ 2 -4  2 -2]\n",
      "ZTF21aavuqzr [ 2 -2  2 -2]\n",
      "ZTF21aanuxvd [ 6 -4  2 -1]\n",
      "ZTF21aauaaxv [ 2 -1  8 -4]\n",
      "ZTF21aaradzm [ 2 -2  2 -4]\n",
      "ZTF21aarcobt [ 2 -2  0 -4]\n",
      "ZTF21aapvmcu [ 2 -2  2 -2]\n",
      "ZTF21aaowaxx [ 2 -2  0 -6]\n",
      "ZTF21aaoqbbw [ 2 -2  2 -2]\n",
      "ZTF21aakupth [ 2 -2  2 -4]\n",
      "ZTF21aafmkjk [ 2 -4  2 -2]\n",
      "ZTF21aagnqnz [ 2 -2  2 -2]\n",
      "ZTF21aahfjrr [ 2 -4  4 -8]\n",
      "ZTF21aacfsmk [ 4 -2  4 -2]\n",
      "ZTF21aaabxbd [ 2 -6  2 -4]\n",
      "ZTF20aczgmai [ 2 -2  4 -2]\n",
      "ZTF20acwobku [ 2 -2  0 -4]\n",
      "ZTF20acusylb [ 2 -2  0 -2]\n",
      "ZTF20actkulc [ 2 -2  0 -4]\n",
      "ZTF20acounxo [ 2 -2  2 -2]\n",
      "ZTF20acqqdkl [ 2 -4  2 -4]\n",
      "ZTF20acqgklx [ 2 -2  2 -4]\n",
      "ZTF20acoawtj [ 2 -4  2 -4]\n",
      "ZTF20acisvli [ 8 -2  2 -2]\n",
      "ZTF20aclkvjy [ 2 -8  2 -4]\n",
      "ZTF20acbekkx [ 2 -2  2 -2]\n",
      "ZTF20abzjoxd [ 2 -2  2 -2]\n",
      "ZTF20abtjjhb [ 2 -2  2 -2]\n",
      "ZTF20abqgbum [ 2 -2  4 -2]\n",
      "ZTF20abonvte [ 2 -2  2 -2]\n",
      "ZTF20abpmqnr [ 2 -2  2 -2]\n",
      "ZTF18aakycpv [ 2 -2  2 -2]\n",
      "ZTF20aayvmyh [ 2 -2  2 -2]\n",
      "ZTF20aaurfwa [  2 -10   2  -2]\n",
      "ZTF20aaswzdm [ 2 -4  4 -2]\n",
      "ZTF20aartnkv [ 2 -4  2 -2]\n",
      "ZTF20aaivhra [ 2 -4  2 -2]\n",
      "ZTF20aammbvq [ 2 -2  2 -2]\n",
      "ZTF20aahapgw [ 2 -2  2 -2]\n",
      "ZTF20aajvyja [ 2 -2  2 -4]\n",
      "ZTF20aadyyvk [ 2 -2  2 -2]\n",
      "ZTF20aafegdf [ 0 -2  0 -2]\n",
      "ZTF20aadtarr [ 2 -2  2 -4]\n",
      "ZTF20aadxrvb [ 0 -4  0 -4]\n",
      "ZTF20aaaddgy [ 2 -2  2 -4]\n",
      "ZTF20aabcemq [ 2 -2  2 -2]\n",
      "ZTF20aaaweke [ 2 -2  2 -4]\n",
      "ZTF19abzfxel [ 2 -2  2 -2]\n",
      "ZTF20aacbyec [ 2 -2  2 -2]\n",
      "ZTF19acyldun [ 4 -2  2 -2]\n",
      "ZTF19acxqaot [ 2 -2  0 -4]\n",
      "ZTF19acyjviz [ 2 -2  2 -6]\n",
      "ZTF19acyjysk [ 2 -2  2 -2]\n",
      "ZTF19acykaae [ 0 -2  0 -2]\n",
      "ZTF19acukucu [ 4 -2  2 -2]\n",
      "ZTF19acftude [ 4 -2  2 -2]\n",
      "ZTF19acftbsn [  2 -12   2  -4]\n",
      "ZTF19aceqlxc [ 2 -2  2 -2]\n",
      "ZTF19acapech [ 2 -2  2 -2]\n",
      "ZTF19ablpasc [ 2 -2  2 -2]\n",
      "ZTF19abpidqn [ 2 -2  2 -4]\n",
      "ZTF19ablojrw [ 2 -2  2 -2]\n",
      "ZTF19abgndlf [ 2 -2  2 -2]\n",
      "ZTF19abdviwl [ 2 -2  2 -2]\n",
      "ZTF19abcejfo [  0  -2   0 -22]\n",
      "ZTF19abandzh [10 -2  4 -2]\n",
      "ZTF19aavsrgj [ 2 -2  2 -4]\n",
      "ZTF19aavjukt [ 2 -2  2 -4]\n",
      "ZTF19aarxrem [ 0 -4  0 -2]\n",
      "ZTF19aasekcx [  2 -16   2  -2]\n",
      "ZTF19aarzaod [ 2 -2  2 -2]\n",
      "ZTF19aapzbjr [ 4 -2  4 -2]\n",
      "ZTF19aaoxfyh [ 2 -4  2 -2]\n",
      "ZTF19aanfqug [ 2 -2  2 -2]\n",
      "ZTF19aanqzhm [ 2 -2  2 -2]\n",
      "ZTF19aalbfga [ 2 -2  2 -2]\n",
      "ZTF19aaksxgp [ 0 -4  2 -4]\n",
      "ZTF19aailptb [ 2 -2  2 -2]\n",
      "ZTF19aamkmxv [ 2 -4  2 -2]\n",
      "ZTF19aadgimr [  2 -12   2  -2]\n",
      "ZTF18aczuooo [ 2 -4  2 -2]\n",
      "ZTF18acvgjqv [ 2 -2  2 -4]\n",
      "ZTF18abxbhov [ 2 -4  2 -6]\n",
      "ZTF18abvgjgb [ 2 -2  2 -4]\n",
      "ZTF18abucxcj [ 2 -6  4 -2]\n",
      "ZTF18abtswjk [ 2 -2  2 -2]\n",
      "ZTF18ablqehq [ 2 -2  0 -2]\n",
      "ZTF18aamftst [ 2 -4  2 -2]\n",
      "ZTF18aaxxfgs [ 2 -4  2 -2]\n",
      "ZTF18aaxjuwy [ 2 -2  2 -2]\n",
      "ZTF18aauenwu [ 2 -2  4 -4]\n",
      "ZTF18aakrnvd [ 2 -6  2 -2]\n"
     ]
    }
   ],
   "source": [
    "from data_processing import ztf_load_data\n",
    "\n",
    "ztf_names_sn_Ia_CSM = np.loadtxt(\"Data/ZTF_SNe_Ia_CSM.txt\", delimiter = \",\", dtype = \"str\")\n",
    "ztf_names_sn_IIn = np.loadtxt(\"Data/ZTF_SNe_IIn.txt\", delimiter = \",\", dtype = \"str\")\n",
    "ztf_names = np.concatenate((ztf_names_sn_Ia_CSM, ztf_names_sn_IIn))\n",
    "\n",
    "for SN_name in ztf_names:\n",
    "\n",
    "    time, flux, fluxerr, filters, boundaries = ztf_load_data(SN_name)\n",
    "    print(SN_name, boundaries)"
   ]
  },
  {
   "cell_type": "code",
   "execution_count": 17,
   "metadata": {},
   "outputs": [
    {
     "ename": "ValueError",
     "evalue": "attempt to get argmax of an empty sequence",
     "output_type": "error",
     "traceback": [
      "\u001b[0;31m---------------------------------------------------------------------------\u001b[0m",
      "\u001b[0;31mValueError\u001b[0m                                Traceback (most recent call last)",
      "Cell \u001b[0;32mIn [17], line 12\u001b[0m\n\u001b[1;32m      9\u001b[0m f1_values \u001b[38;5;241m=\u001b[39m np\u001b[38;5;241m.\u001b[39mwhere(filters \u001b[38;5;241m==\u001b[39m \u001b[38;5;124m\"\u001b[39m\u001b[38;5;124mr\u001b[39m\u001b[38;5;124m\"\u001b[39m)\n\u001b[1;32m     11\u001b[0m \u001b[38;5;66;03m# Shift the light curve so that the main peak is at time = 0 MJD\u001b[39;00m\n\u001b[0;32m---> 12\u001b[0m peak_main_idx \u001b[38;5;241m=\u001b[39m \u001b[43mnp\u001b[49m\u001b[38;5;241;43m.\u001b[39;49m\u001b[43margmax\u001b[49m\u001b[43m(\u001b[49m\u001b[43mflux\u001b[49m\u001b[43m[\u001b[49m\u001b[43mf1_values\u001b[49m\u001b[43m]\u001b[49m\u001b[43m)\u001b[49m\n\u001b[1;32m     13\u001b[0m peak_time \u001b[38;5;241m=\u001b[39m np\u001b[38;5;241m.\u001b[39mcopy(time[peak_main_idx])\n\u001b[1;32m     14\u001b[0m peak_flux \u001b[38;5;241m=\u001b[39m np\u001b[38;5;241m.\u001b[39mcopy(flux[peak_main_idx])\n",
      "File \u001b[0;32m<__array_function__ internals>:180\u001b[0m, in \u001b[0;36margmax\u001b[0;34m(*args, **kwargs)\u001b[0m\n",
      "File \u001b[0;32m~/.local/lib/python3.8/site-packages/numpy/core/fromnumeric.py:1216\u001b[0m, in \u001b[0;36margmax\u001b[0;34m(a, axis, out, keepdims)\u001b[0m\n\u001b[1;32m   1129\u001b[0m \u001b[38;5;124;03m\"\"\"\u001b[39;00m\n\u001b[1;32m   1130\u001b[0m \u001b[38;5;124;03mReturns the indices of the maximum values along an axis.\u001b[39;00m\n\u001b[1;32m   1131\u001b[0m \n\u001b[0;32m   (...)\u001b[0m\n\u001b[1;32m   1213\u001b[0m \u001b[38;5;124;03m(2, 1, 4)\u001b[39;00m\n\u001b[1;32m   1214\u001b[0m \u001b[38;5;124;03m\"\"\"\u001b[39;00m\n\u001b[1;32m   1215\u001b[0m kwds \u001b[38;5;241m=\u001b[39m {\u001b[38;5;124m'\u001b[39m\u001b[38;5;124mkeepdims\u001b[39m\u001b[38;5;124m'\u001b[39m: keepdims} \u001b[38;5;28;01mif\u001b[39;00m keepdims \u001b[38;5;129;01mis\u001b[39;00m \u001b[38;5;129;01mnot\u001b[39;00m np\u001b[38;5;241m.\u001b[39m_NoValue \u001b[38;5;28;01melse\u001b[39;00m {}\n\u001b[0;32m-> 1216\u001b[0m \u001b[38;5;28;01mreturn\u001b[39;00m \u001b[43m_wrapfunc\u001b[49m\u001b[43m(\u001b[49m\u001b[43ma\u001b[49m\u001b[43m,\u001b[49m\u001b[43m \u001b[49m\u001b[38;5;124;43m'\u001b[39;49m\u001b[38;5;124;43margmax\u001b[39;49m\u001b[38;5;124;43m'\u001b[39;49m\u001b[43m,\u001b[49m\u001b[43m \u001b[49m\u001b[43maxis\u001b[49m\u001b[38;5;241;43m=\u001b[39;49m\u001b[43maxis\u001b[49m\u001b[43m,\u001b[49m\u001b[43m \u001b[49m\u001b[43mout\u001b[49m\u001b[38;5;241;43m=\u001b[39;49m\u001b[43mout\u001b[49m\u001b[43m,\u001b[49m\u001b[43m \u001b[49m\u001b[38;5;241;43m*\u001b[39;49m\u001b[38;5;241;43m*\u001b[39;49m\u001b[43mkwds\u001b[49m\u001b[43m)\u001b[49m\n",
      "File \u001b[0;32m~/.local/lib/python3.8/site-packages/numpy/core/fromnumeric.py:57\u001b[0m, in \u001b[0;36m_wrapfunc\u001b[0;34m(obj, method, *args, **kwds)\u001b[0m\n\u001b[1;32m     54\u001b[0m     \u001b[38;5;28;01mreturn\u001b[39;00m _wrapit(obj, method, \u001b[38;5;241m*\u001b[39margs, \u001b[38;5;241m*\u001b[39m\u001b[38;5;241m*\u001b[39mkwds)\n\u001b[1;32m     56\u001b[0m \u001b[38;5;28;01mtry\u001b[39;00m:\n\u001b[0;32m---> 57\u001b[0m     \u001b[38;5;28;01mreturn\u001b[39;00m \u001b[43mbound\u001b[49m\u001b[43m(\u001b[49m\u001b[38;5;241;43m*\u001b[39;49m\u001b[43margs\u001b[49m\u001b[43m,\u001b[49m\u001b[43m \u001b[49m\u001b[38;5;241;43m*\u001b[39;49m\u001b[38;5;241;43m*\u001b[39;49m\u001b[43mkwds\u001b[49m\u001b[43m)\u001b[49m\n\u001b[1;32m     58\u001b[0m \u001b[38;5;28;01mexcept\u001b[39;00m \u001b[38;5;167;01mTypeError\u001b[39;00m:\n\u001b[1;32m     59\u001b[0m     \u001b[38;5;66;03m# A TypeError occurs if the object does have such a method in its\u001b[39;00m\n\u001b[1;32m     60\u001b[0m     \u001b[38;5;66;03m# class, but its signature is not identical to that of NumPy's. This\u001b[39;00m\n\u001b[0;32m   (...)\u001b[0m\n\u001b[1;32m     64\u001b[0m     \u001b[38;5;66;03m# Call _wrapit from within the except clause to ensure a potential\u001b[39;00m\n\u001b[1;32m     65\u001b[0m     \u001b[38;5;66;03m# exception has a traceback chain.\u001b[39;00m\n\u001b[1;32m     66\u001b[0m     \u001b[38;5;28;01mreturn\u001b[39;00m _wrapit(obj, method, \u001b[38;5;241m*\u001b[39margs, \u001b[38;5;241m*\u001b[39m\u001b[38;5;241m*\u001b[39mkwds)\n",
      "\u001b[0;31mValueError\u001b[0m: attempt to get argmax of an empty sequence"
     ]
    }
   ],
   "source": [
    "import numpy as np\n",
    "from parameter_estimation import light_curve_one_peak, light_curve_two_peaks\n",
    "\n",
    "# Only consider data belonging to the supernova explosion\n",
    "time = np.concatenate((time[boundaries[0] : boundaries[2] + 1], time[boundaries[1] : boundaries[3] + 1]))\n",
    "flux = np.concatenate((flux[boundaries[0] : boundaries[2] + 1], flux[boundaries[1] : boundaries[3] + 1]))\n",
    "filters = np.concatenate((filters[boundaries[0] : boundaries[2] + 1], filters[boundaries[1] : boundaries[3] + 1]))\n",
    "\n",
    "f1_values = np.where(filters == \"r\")\n",
    "\n",
    "# Shift the light curve so that the main peak is at time = 0 MJD\n",
    "peak_main_idx = np.argmax(flux[f1_values])\n",
    "peak_time = np.copy(time[peak_main_idx])\n",
    "peak_flux = np.copy(flux[peak_main_idx])\n",
    "\n",
    "time -= peak_time\n",
    "\n",
    "amount_fit = 100\n",
    "time_fit = np.concatenate((np.linspace(-500, 500, amount_fit), np.linspace(-500, 500, amount_fit)))\n",
    "f1_values_fit = np.arange(amount_fit)\n",
    "f2_values_fit = np.arange(amount_fit) + amount_fit\n",
    "\n",
    "parameter_values = np.load(f\"Data/Analytical_parameters/ZTF/one_peak/ZTF22abhwlnm_parameters_OP.npy\")\n",
    "\n",
    "flux_fit = light_curve_one_peak(time_fit, parameter_values[:14], peak_flux, f1_values_fit, f2_values_fit)\n",
    "\n",
    "import matplotlib.pyplot as plt\n",
    "\n",
    "plt.scatter(time_fit, flux_fit)"
   ]
  },
  {
   "cell_type": "code",
   "execution_count": 96,
   "metadata": {},
   "outputs": [
    {
     "data": {
      "image/png": "[encoded data removed]",
      "text/plain": [
       "<Figure size 640x480 with 1 Axes>"
      ]
     },
     "metadata": {},
     "output_type": "display_data"
    }
   ],
   "source": [
    "import numpy as np \n",
    "import matplotlib.pyplot as plt\n",
    "\n",
    "from data_processing import ztf_load_data, atlas_load_data\n",
    "from parameter_estimation import light_curve_one_peak, light_curve_two_peaks, augment_data, find_extrema, isolate_second_peak\n",
    "\n",
    "plt.rcParams['text.usetex'] = True\n",
    "\n",
    "time, flux, fluxerr, filters = atlas_load_data(\"ATLAS18qjm\")\n",
    "f1, f2 = \"o\", \"c\"\n",
    "parameter_values = np.load(f\"Data/Analytical_parameters/ATLAS/one_peak/ATLAS18qjm_parameters_OP.npy\")\n",
    "\n",
    "filter_f1 = np.where(filters == f1)\n",
    "filter_f2 = np.where(filters == f2)\n",
    "\n",
    "peak_main_idx = np.argmax(flux[filter_f1])\n",
    "peak_time = np.copy(time[peak_main_idx])\n",
    "peak_flux = np.copy(flux[peak_main_idx])\n",
    "\n",
    "time -= peak_time\n",
    "\n",
    "amount_fit = 100\n",
    "\n",
    "time_fit = np.concatenate((np.linspace(time.min() - 85, time.max() + 85, amount_fit), np.linspace(time.min() - 85, time.max() + 85, amount_fit)))\n",
    "f1_values_fit = np.arange(amount_fit)\n",
    "f2_values_fit = np.arange(amount_fit) + amount_fit\n",
    "\n",
    "flux_fit = light_curve_one_peak(time_fit, parameter_values, peak_flux, f1_values_fit, f2_values_fit)\n",
    "\n",
    "rise_parameter = peak_flux * (10 ** parameter_values[0]) / (1 + np.exp(-(time_fit  + peak_time - sorted(time + peak_time)[1] - (parameter_values[1] + peak_time - sorted(time + peak_time)[1])) / (10 ** parameter_values[2])))\n",
    "fall_parameter = peak_flux * (10 ** parameter_values[0]) * (np.exp( ((10 ** parameter_values[0]) - (time_fit  + peak_time - sorted(time + peak_time)[1] - (parameter_values[1] + peak_time - sorted(time + peak_time)[1]))) / (10 ** parameter_values[5]))) \n",
    "beta = peak_flux * (10 ** parameter_values[0]) * (1 - parameter_values[4] * (time_fit  + peak_time - sorted(time + peak_time)[1] - (parameter_values[1] + peak_time - sorted(time + peak_time)[1])))\n",
    "\n",
    "r_values = np.where(filters == f1)\n",
    "plt.errorbar(time[r_values] + peak_time - sorted(time + peak_time)[1], flux[r_values], yerr = fluxerr[r_values], fmt = \"o\", markersize = 4, capsize = 2, color = \"dimgrey\", label = f\"Data {f1}-band\")\n",
    "plt.plot(time_fit[f1_values_fit] + peak_time - sorted(time + peak_time)[1], flux_fit[f1_values_fit], linestyle = \"--\", linewidth = 1.5, color = \"dimgrey\", label = f\"Best fit {f1}-band\")\n",
    "\n",
    "plt.axvline(parameter_values[1] + peak_time - sorted(time + peak_time)[1], linewidth = 1.7, linestyle = \"-.\", color = \"#4E79A7\")\n",
    "plt.text(5, 315, r\"$\\mathbf{t_{0}}$\", fontsize = \"large\", color = \"#4E79A7\")\n",
    "\n",
    "plt.axvline(10 ** (parameter_values[3]) + parameter_values[1] + peak_time - sorted(time + peak_time)[1], linewidth = 1.7, linestyle = \"-.\", color = \"#F28E2B\")\n",
    "plt.text(32, 515, r\"$\\mathbf{t_{0}} + \\mathbf{\\gamma}$\", fontsize = \"large\", color = \"#F28E2B\")\n",
    "\n",
    "plt.plot(time_fit[f1_values_fit] + peak_time - sorted(time + peak_time)[1], beta[f1_values_fit], linewidth = 1.7, linestyle = (5, (10, 3)), color = \"#E15759\")\n",
    "plt.text(45, 315, r\"$ \\mathbf{A (1 - \\beta(1 - t_0))}$\", fontsize = \"large\", color = \"#E15759\")\n",
    "\n",
    "plt.plot(time_fit[f1_values_fit] + peak_time - sorted(time + peak_time)[1], rise_parameter[f1_values_fit], linewidth = 2, linestyle = \"-\", color = \"#B07AA1\")\n",
    "plt.text(100, 90, r\"$ \\mathbf{\\frac{\\sqrt{A}}{1 + \\mathbf{exp}[ - \\frac{t - t_{0}}{\\mathbf{\\tau _{rise}}}] }}$\", fontsize = \"x-large\", color = \"#B07AA1\")\n",
    "\n",
    "plt.plot(time_fit[f1_values_fit] + peak_time - sorted(time + peak_time)[1], fall_parameter[f1_values_fit], linewidth = 2, linestyle = \"-\", color = \"#59A14F\")\n",
    "plt.text(-68, 515, r\"$ \\mathbf{\\sqrt{A}\\times \\mathbf{exp}[ \\frac{\\mathbf{\\gamma} - (t - t_{0})}{\\mathbf{\\tau _{fall}}}]}$\", fontsize = \"large\", color = \"#59A14F\")          \n",
    "\n",
    "plt.xlabel(\"Days since first detection\", fontsize = 13)\n",
    "plt.ylabel(\"Flux $(\\mathrm{\\mu Jy})$\", fontsize = 13)\n",
    "plt.title(f\"Light curve of ATLAS18qjm.\")\n",
    "plt.grid(alpha = 0.3) \n",
    "plt.xlim([-75, 150])\n",
    "plt.ylim([-25, 650])\n",
    "plt.legend()\n",
    "plt.savefig(f\"Presentation/explenation_fitting_parameters.png\", dpi = 300, bbox_inches = \"tight\")\n",
    "plt.show()"
   ]
  },
  {
   "cell_type": "code",
   "execution_count": 5,
   "metadata": {},
   "outputs": [
    {
     "name": "stdout",
     "output_type": "stream",
     "text": [
      "18.142105675000522\n",
      "19.14483593179231\n",
      "1.0027302567917893\n"
     ]
    }
   ],
   "source": [
    "from data_processing import ztf_load_data, atlas_micro_flux_to_magnitude\n",
    "import numpy as np\n",
    "from parameter_estimation import light_curve_two_peaks\n",
    "\n",
    "time, flux, _, filters = ztf_load_data(\"ZTF21abhqqfa\")\n",
    "\n",
    "parameter_values = np.load(f\"Data/Analytical_parameters/ZTF/two_peaks/ZTF21abhqqfa_parameters_TP.npy\")\n",
    "\n",
    "f1_values = np.where(filters == \"r\")\n",
    "\n",
    "# Shift the light curve so that the main peak is at time = 0 MJD\n",
    "peak_main_idx = np.argmax(flux[f1_values])\n",
    "peak_time = np.copy(time[peak_main_idx])\n",
    "peak_flux = np.copy(flux[peak_main_idx])\n",
    "\n",
    "time -= peak_time\n",
    "\n",
    "amount_fit = 1000\n",
    "time_fit = np.concatenate((np.linspace(time.min() - 75, time.max() + 75, amount_fit), np.linspace(time.min() - 75, time.max() + 75, amount_fit)))\n",
    "f1_values_fit = np.arange(amount_fit)\n",
    "f2_values_fit = np.arange(amount_fit) + amount_fit\n",
    "\n",
    "flux_fit = light_curve_two_peaks(time_fit, parameter_values, peak_flux, f1_values_fit, f2_values_fit)\n",
    "\n",
    "magnitude_fit, _ = atlas_micro_flux_to_magnitude(flux_fit, flux_fit)\n",
    "\n",
    "time_fit += peak_time\n",
    "\n",
    "# In filter 1\n",
    "peak_fit_idx_f1 = np.argmax(flux_fit[f1_values_fit])\n",
    "peak_time_fit_f1 = np.copy(time_fit[peak_fit_idx_f1])\n",
    "peak_flux_fit_f1 = np.copy(flux_fit[peak_fit_idx_f1])\n",
    "time_fit_f1 = time_fit - peak_time_fit_f1\n",
    "\n",
    "# Peak magnitude\n",
    "peak_magnitude_f1 = magnitude_fit[peak_fit_idx_f1]\n",
    "print(peak_magnitude_f1)\n",
    "\n",
    "# Rise time \n",
    "explosion_time_f1 = np.argmin(np.abs(flux_fit[f1_values_fit][:peak_fit_idx_f1] - 0.1))\n",
    "rise_time_f1 = time_fit_f1[peak_fit_idx_f1] - time_fit_f1[explosion_time_f1]\n",
    "\n",
    "# Magnitude difference peak - 10 days before\n",
    "ten_days_before_peak_f1 = np.argmin(np.abs(time_fit_f1[f1_values_fit] + 10))\n",
    "ten_days_magnitude_f1 = magnitude_fit[ten_days_before_peak_f1]\n",
    "ten_days_magnitude_difference_f1 = np.abs(peak_magnitude_f1 - ten_days_magnitude_f1)\n",
    "\n",
    "# Magnitude difference peak - 15 days after\n",
    "fifteen_days_after_peak_f1 = np.argmin(np.abs(time_fit_f1[f1_values_fit] - 15))\n",
    "fifteen_days_magnitude_f1 = magnitude_fit[fifteen_days_after_peak_f1]\n",
    "fifteen_days_magnitude_difference_f1 = np.abs(peak_magnitude_f1 - fifteen_days_magnitude_f1)\n",
    "\n",
    "# Magnitude difference peak - 30 days after\n",
    "thirty_days_after_peak_f1 = np.argmin(np.abs(time_fit_f1[f1_values_fit] - 30))\n",
    "thirty_days_magnitude_f1 = magnitude_fit[thirty_days_after_peak_f1]\n",
    "thirty_days_magnitude_difference_f1 = np.abs(peak_magnitude_f1 - thirty_days_magnitude_f1)\n",
    "print(thirty_days_magnitude_f1)\n",
    "print(thirty_days_magnitude_difference_f1)\n",
    "\n",
    "# Duration above half of the peak flux\n",
    "half_peak_flux_f1 = np.argmin(np.abs(flux_fit[f1_values_fit][peak_fit_idx_f1:] - peak_flux_fit_f1 * 0.5)) + peak_fit_idx_f1\n",
    "half_peak_time_f1 = time_fit_f1[half_peak_flux_f1]\n",
    "\n",
    "# Duration above a fifth of the peak flux\n",
    "fifth_peak_flux_f1 = np.argmin(np.abs(flux_fit[f1_values_fit][peak_fit_idx_f1:] - peak_flux_fit_f1 * 0.2)) + peak_fit_idx_f1\n",
    "fifth_peak_time_f1 = time_fit_f1[fifth_peak_flux_f1]"
   ]
  },
  {
   "cell_type": "code",
   "execution_count": 5,
   "metadata": {},
   "outputs": [
    {
     "data": {
      "text/plain": [
       "array([18.14210568, 57.90610923,  0.83527423,  0.68792727,  1.00273026,\n",
       "       21.2987988 , 42.5975976 , 18.38816932, 62.23242774,  0.81812933,\n",
       "        0.98857826,  1.21132732,  6.98866836, 33.94496059])"
      ]
     },
     "execution_count": 5,
     "metadata": {},
     "output_type": "execute_result"
    }
   ],
   "source": [
    "from parameter_reduction import calculate_global_parameters\n",
    "import numpy as np \n",
    "\n",
    "parameter_values = np.load(f\"Data/Analytical_parameters/ZTF/two_peaks/ZTF21abhqqfa_parameters_TP.npy\")\n",
    "calculate_global_parameters(\"ZTF21abhqqfa\", \"ZTF\", 2, parameter_values)"
   ]
  },
  {
   "cell_type": "code",
   "execution_count": 3,
   "metadata": {},
   "outputs": [],
   "source": [
    "import numpy as np \n",
    "\n",
    "ztf_names_sn_Ia_CSM = np.loadtxt(\"Data/ZTF_SNe_Ia_CSM.txt\", delimiter = \",\", dtype = \"str\")\n",
    "ztf_names_sn_IIn = np.loadtxt(\"Data/ZTF_SNe_IIn.txt\", delimiter = \",\", dtype = \"str\")\n",
    "ztf_names = np.concatenate((ztf_names_sn_Ia_CSM, ztf_names_sn_IIn))\n",
    "\n",
    "atlas_names_sn_Ia_CSM = np.loadtxt(\"Data/ATLAS_SNe_Ia_CSM.txt\", delimiter = \",\", dtype = \"str\")\n",
    "atlas_names_sn_IIn = np.loadtxt(\"Data/ATLAS_SNe_IIn.txt\", delimiter = \",\", dtype = \"str\")\n",
    "atlas_names = np.concatenate((atlas_names_sn_Ia_CSM, atlas_names_sn_IIn))"
   ]
  },
  {
   "cell_type": "code",
   "execution_count": 54,
   "metadata": {},
   "outputs": [
    {
     "name": "stderr",
     "output_type": "stream",
     "text": [
      "/tmp/ipykernel_5341/2220984027.py:58: RuntimeWarning: divide by zero encountered in float_scalars\n",
      "  m = np.abs((flux_filter[-1] - flux_filter[cut_idx]) / (time_filter[-1] - time_filter[cut_idx]))\n",
      "/tmp/ipykernel_5341/2220984027.py:24: RuntimeWarning: divide by zero encountered in float_scalars\n",
      "  m = np.abs((flux_filter[0] - flux_filter[cut_idx]) / (time_filter[0] - time_filter[cut_idx]))\n"
     ]
    }
   ],
   "source": [
    "for name in ztf_names:\n",
    "\n",
    "    time, flux, fluxerr, filters, boundaries = ztf_load_data(name)\n",
    "\n",
    "    filter_f1 = np.where(filters == \"r\")\n",
    "    filter_f2 = np.where(filters == \"g\")\n",
    "\n",
    "    past_and_future = find_baseline(time, flux, filter_f1, filter_f2)\n",
    "\n",
    "    np.save(f\"Data/ZTF_forced_photometry_data/processed/{name}_extremes.npy\", past_and_future[\"SN extremes\"])"
   ]
  },
  {
   "cell_type": "code",
   "execution_count": 8,
   "metadata": {},
   "outputs": [],
   "source": [
    "for name in atlas_names:\n",
    "\n",
    "    time, flux, fluxerr, filters, boundaries = atlas_load_data(name)\n",
    "\n",
    "    filter_f1 = np.where(filters == \"o\")\n",
    "    filter_f2 = np.where(filters == \"c\")\n",
    "\n",
    "    past_and_future = find_baseline(time, flux, filter_f1, filter_f2)\n",
    "\n",
    "    np.save(f\"Data/ATLAS_forced_photometry_data/processed/{name}_extremes.npy\", past_and_future[\"SN extremes\"])"
   ]
  },
  {
   "cell_type": "code",
   "execution_count": null,
   "metadata": {},
   "outputs": [],
   "source": [
    "plt.rcParams['text.usetex'] = True\n",
    "\n",
    "time, flux, fluxerr, filters, boundaries = ztf_load_data(\"ZTF23aansdlc\")\n",
    "f1, f2 = \"r\", \"g\"\n",
    "parameter_values = np.load(f\"Data/Analytical_parameters/ZTF/two_peaks/ZTF23aansdlc_parameters_TP.npy\")\n",
    "\n",
    "if time[boundaries[0] + 1] < time[boundaries[1] + 1]:\n",
    "    time_first_detection = time[boundaries[0] + 1]\n",
    "\n",
    "else: \n",
    "    time_first_detection = time[boundaries[1] + 1]\n",
    "\n",
    "filter_f1 = np.where(filters == f1)\n",
    "filter_f2 = np.where(filters == f2)\n",
    "\n",
    "time = np.concatenate((time[filter_f1][boundaries[0] : boundaries[1]], time[filter_f2][boundaries[2] : boundaries[3]]))\n",
    "flux = np.concatenate((flux[filter_f1][boundaries[0] : boundaries[1]], flux[filter_f2][boundaries[2] : boundaries[3]]))\n",
    "fluxerr = np.concatenate((fluxerr[filter_f1][boundaries[0] : boundaries[1]], fluxerr[filter_f2][boundaries[2] : boundaries[3]]))\n",
    "filters = np.concatenate((filters[filter_f1][boundaries[0] : boundaries[1]], filters[filter_f2][boundaries[2] : boundaries[3]]))\n",
    "\n",
    "f1_values = np.where(filters == f1)\n",
    "f2_values = np.where(filters == f2)\n",
    "\n",
    "peak_main_idx = np.argmax(flux[f1_values])\n",
    "peak_time = np.copy(time[peak_main_idx])\n",
    "peak_flux = np.copy(flux[peak_main_idx])\n",
    "\n",
    "time -= peak_time\n",
    "\n",
    "amount_fit = 100\n",
    "\n",
    "time_fit = np.concatenate((np.linspace(time.min() - 30, time.max() + 30, amount_fit), np.linspace(time.min() - 30, time.max() + 30, amount_fit)))\n",
    "f1_values_fit = np.arange(amount_fit)\n",
    "f2_values_fit = np.arange(amount_fit) + amount_fit\n",
    "\n",
    "flux_fit = light_curve_two_peaks(time_fit, parameter_values, peak_flux, f1_values_fit, f2_values_fit)\n",
    "\n",
    "amount_aug = 70\n",
    "\n",
    "time_aug, flux_aug, fluxerr_aug, filters_aug = augment_data(\"ZTF\", peak_time, amount_aug)\n",
    "\n",
    "f1_values_aug = np.where(filters_aug == f1)\n",
    "f2_values_aug = np.where(filters_aug == f2)\n",
    "\n",
    "extrema_f1, peak_width_f1, extrema_f2, peak_width_f2 = find_extrema(time_aug, flux_aug, fluxerr_aug, f1_values_aug, f2_values_aug)\n",
    "time_peak, flux_peak, fluxerr_peak, filters_peak = isolate_second_peak(f1, extrema_f1, peak_width_f1, \n",
    "                                                                               extrema_f2, peak_width_f2, time_aug, f1_values_aug, f2_values_aug)\n",
    "\n",
    "f1_values_peak = np.where(filters_peak == f1)\n",
    "f2_values_peak = np.where(filters_peak == f2)\n",
    "\n",
    "# Inital guess of the parameters (amplitude, mean, standard deviation)\n",
    "# If in both filters a second peak is detected\n",
    "if f1 in filters and extrema_f1[2] != -1 and f2 in filters and extrema_f2[2] != -1:\n",
    "    guess_parameters = np.array([1, time_aug[f1_values_aug][extrema_f1][2], peak_width_f1, \n",
    "                                flux_aug[f2_values_aug][extrema_f2][2] / flux_aug[f1_values_aug][extrema_f1][2], \n",
    "                                time_aug[f2_values_aug][extrema_f2][2] / time_aug[f1_values_aug][extrema_f1][2], \n",
    "                                peak_width_f2 / peak_width_f1])\n",
    "\n",
    "# If only in one peak a second peak is detected\n",
    "else:\n",
    "    if f1 in filters and extrema_f1[2] != -1:\n",
    "        guess_parameters = np.array([1, time_aug[f1_values_aug][extrema_f1][2], peak_width_f1, 1, 1, 1])\n",
    "\n",
    "    elif f2 in filters and extrema_f2[2] != -1:\n",
    "        guess_parameters = np.array([1, time_aug[f2_values_aug][extrema_f2][2], peak_width_f2, 1, 1, 1])\n",
    "\n",
    "down_bound = parameter_bounds_gaussian[0]\n",
    "up_bound = parameter_bounds_gaussian[1]\n",
    "\n",
    "second_peak_parameters, _ = curve_fit(second_peak, time_peak, flux_peak, p0 = guess_parameters, sigma = fluxerr_peak, bounds = parameter_bounds_gaussian)\n",
    "flux_peak = second_peak_fit(time, *second_peak_parameters)\n",
    "\n",
    "flux -= flux_peak\n",
    "\n",
    "parameter_values_OP, _ = find_parameters_one_peak(\"ZTF23aansdlc\", \"ZTF\")\n",
    "flux_OP_fit = light_curve_one_peak(time_fit, parameter_values_OP, peak_flux, f1_values_fit, f2_values_fit)\n",
    "\n",
    "flux += flux_peak\n",
    "\n",
    "time += peak_time\n",
    "time_fit += peak_time\n",
    "time_aug += peak_time\n",
    "time_peak += peak_time\n",
    "\n",
    "time -= time_first_detection\n",
    "time_fit -= time_first_detection\n",
    "time_aug -= time_first_detection\n",
    "time_peak -= time_first_detection\n",
    "\n",
    "# %%\n",
    "\n",
    "r_values = np.where(filters == f1)\n",
    "plt.errorbar(time[r_values], flux[r_values], yerr = fluxerr[r_values], fmt = \"o\", markersize = 4, capsize = 2, color = \"tab:blue\", label = f\"Residual data r-band\")\n",
    "# plt.errorbar(time_peak[f1_values_peak], flux_peak[9:12], yerr = fluxerr_peak[f1_values_peak], fmt = \"o\", markersize = 4, capsize = 2, color = \"tab:blue\", label = f\"Data second peak r-band\")\n",
    "plt.plot(time_fit[f1_values_fit], flux_OP_fit[f1_values_fit], linestyle = \"--\", linewidth = 2, color = \"tab:blue\", label = f\"Best fit residual data {f1}-band\")\n",
    "# plt.plot(time[f1_values], flux_peak[f1_values], linewidth = 2, linestyle = \":\", color = \"black\", label = \"Best fit second peak r-band\")\n",
    "\n",
    "# plt.fill_between(time_aug[f1_values_aug], flux_aug[f1_values_aug] - fluxerr_aug[f1_values_aug], flux_aug[f1_values_aug] + fluxerr_aug[f1_values_aug], color = \"tab:blue\", alpha = 0.15, label = \"Error approximation r-band\")\n",
    "# plt.plot(time_aug[f1_values_aug], flux_aug[f1_values_aug], linewidth = 2, color = \"tab:blue\", zorder = 5, label = \"Flux approximation r-band\")\n",
    "\n",
    "# plt.scatter(time_aug[f1_values_aug][extrema_f1][::2], flux_aug[f1_values_aug][extrema_f1][::2], s = 200, marker = \"*\", c = \"tab:orange\", edgecolors = \"black\", label = \"Extrema r-band\" , zorder = 10)\n",
    "# plt.scatter(time_aug[f1_values_aug][extrema_f1][1], flux_aug[f1_values_aug][extrema_f1][1], s = 200, marker = \"*\", c = \"tab:orange\", edgecolors = \"black\", zorder = 10)\n",
    "\n",
    "plt.xlabel(\"Days since first detection\", fontsize = 13)\n",
    "plt.ylabel(\"Flux $(\\mu Jy)$\", fontsize = 13)\n",
    "plt.title(f\"Best fit residual light curve of ZTF23aansdlc.\")\n",
    "plt.grid(alpha = 0.3) \n",
    "# plt.xlim([-4, 54])\n",
    "# plt.ylim([-25, 425])\n",
    "plt.legend()\n",
    "plt.savefig(f\"Presentation/fitted_lightcurve_TP_residual.png\", dpi = 300, bbox_inches = \"tight\")\n",
    "plt.show()\n"
   ]
  }
 ],
 "metadata": {
  "kernelspec": {
   "display_name": "Python 3",
   "language": "python",
   "name": "python3"
  },
  "language_info": {
   "codemirror_mode": {
    "name": "ipython",
    "version": 3
   },
   "file_extension": ".py",
   "mimetype": "text/x-python",
   "name": "python",
   "nbconvert_exporter": "python",
   "pygments_lexer": "ipython3",
   "version": "3.8.10"
  }
 },
 "nbformat": 4,
 "nbformat_minor": 2
}
