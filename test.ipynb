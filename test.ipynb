{
 "cells": [
  {
   "cell_type": "code",
   "execution_count": 27,
   "metadata": {},
   "outputs": [],
   "source": [
    "#import modules\n",
    "import pandas as pd\n",
    "\n",
    "#list all csv files only\n",
    "csv_files = ['Data/tns_search (14).csv', 'Data/tns_search (5).csv', 'Data/tns_search (6).csv', 'Data/tns_search (7).csv', 'Data/tns_search (8).csv', 'Data/tns_search (9).csv']\n"
   ]
  },
  {
   "cell_type": "code",
   "execution_count": 28,
   "metadata": {},
   "outputs": [],
   "source": [
    "df_append = pd.DataFrame()\n",
    "\n",
    "#append all files together\n",
    "for file in csv_files:\n",
    "    df_temp = pd.read_csv(file)\n",
    "    df_append = pd.concat([df_append, df_temp], ignore_index=True)\n"
   ]
  },
  {
   "cell_type": "code",
   "execution_count": 29,
   "metadata": {},
   "outputs": [],
   "source": [
    "df_append.to_csv(\"Data/ZTF_info.csv\")"
   ]
  },
  {
   "cell_type": "code",
   "execution_count": 34,
   "metadata": {},
   "outputs": [],
   "source": [
    "info = pd.read_csv(\"Data/ZTF_info.csv\")\n",
    "downloading_info = pd.concat([info[\"Disc. Internal Name\"], info[\"Discovery Date (UT)\"], info[\"RA\"], info[\"DEC\"]], axis = 1, ignore_index = True)\n"
   ]
  },
  {
   "cell_type": "code",
   "execution_count": 41,
   "metadata": {},
   "outputs": [],
   "source": [
    "import numpy as np\n",
    "np.savetxt(\"ZTF_api/ZTF_info.txt\", downloading_info.values, fmt = \"%s\")"
   ]
  },
  {
   "cell_type": "code",
   "execution_count": 66,
   "metadata": {},
   "outputs": [],
   "source": [
    "from astropy.time import Time\n",
    "\n",
    "times = Time(list(info[\"Discovery Date (UT)\"]), format = \"iso\", scale='utc')\n",
    "times_JD = times.jd\n",
    "times_JD_start = times_JD - 100\n",
    "times_JD_end = times_JD + 500"
   ]
  },
  {
   "cell_type": "code",
   "execution_count": 47,
   "metadata": {},
   "outputs": [],
   "source": [
    "from astropy.coordinates import SkyCoord\n",
    "from astropy import units as u\n",
    "ra_dec = SkyCoord(info[\"RA\"].values, info[\"DEC\"].values, unit=(u.hourangle, u.deg))\n",
    "ra_degree = ra_dec.ra.degree\n",
    "dec_degree = ra_dec.dec.degree"
   ]
  },
  {
   "cell_type": "code",
   "execution_count": null,
   "metadata": {},
   "outputs": [],
   "source": [
    "downloading_info = np.column_stack((ra_degree[1:3], dec_degree[1:3], times_JD_start[1:3], times_JD_end[1:3]))\n",
    "np.savetxt(\"ZTF_api/ZTF_info.txt\", downloading_info, fmt = \"%s\")"
   ]
  },
  {
   "cell_type": "code",
   "execution_count": 7,
   "metadata": {},
   "outputs": [],
   "source": [
    "import pandas as pd\n",
    "import numpy as np\n",
    "\n",
    "atlas_data = pd.read_csv(\"Data/ATLAS_info.csv\")\n",
    "atlas_names = atlas_data[\"Name\"]\n",
    "\n",
    "for name in atlas_names:\n",
    "\n",
    "    SN_data = pd.read_csv(f\"Data/ATLAS_forced_photometry_data/{name}.csv\")\n",
    "    SN_data.to_csv(f\"Data/ATLAS_forced_photometry_data/{name}.csv\")"
   ]
  },
  {
   "cell_type": "code",
   "execution_count": 8,
   "metadata": {},
   "outputs": [],
   "source": [
    "import os\n",
    "\n",
    "# Specify the directory where the files are located\n",
    "directory = \"Data/ATLAS_forced_photometry_data/\"\n",
    "\n",
    "# Loop through each file in the directory\n",
    "for filename in os.listdir(directory):\n",
    "    # Check if the file matches the pattern \"SN xxxx.csv\"\n",
    "    if filename.startswith(\"SN \") and filename.endswith(\".csv\"):\n",
    "        # Create the new filename by replacing the space with an underscore\n",
    "        new_filename = filename.replace(\" \", \"_\")\n",
    "        \n",
    "        # Get the full path of the old and new filenames\n",
    "        old_file = os.path.join(directory, filename)\n",
    "        new_file = os.path.join(directory, new_filename)\n",
    "        \n",
    "        # Rename the file\n",
    "        os.rename(old_file, new_file)\n"
   ]
  },
  {
   "cell_type": "code",
   "execution_count": null,
   "metadata": {},
   "outputs": [],
   "source": []
  }
 ],
 "metadata": {
  "kernelspec": {
   "display_name": "Python 3",
   "language": "python",
   "name": "python3"
  },
  "language_info": {
   "codemirror_mode": {
    "name": "ipython",
    "version": 3
   },
   "file_extension": ".py",
   "mimetype": "text/x-python",
   "name": "python",
   "nbconvert_exporter": "python",
   "pygments_lexer": "ipython3",
   "version": "3.8.10"
  }
 },
 "nbformat": 4,
 "nbformat_minor": 2
}
