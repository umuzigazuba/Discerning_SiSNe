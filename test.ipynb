{
 "cells": [
  {
   "cell_type": "code",
   "execution_count": 27,
   "metadata": {},
   "outputs": [],
   "source": [
    "#import modules\n",
    "import pandas as pd\n",
    "\n",
    "#list all csv files only\n",
    "csv_files = ['Data/tns_search (14).csv', 'Data/tns_search (5).csv', 'Data/tns_search (6).csv', 'Data/tns_search (7).csv', 'Data/tns_search (8).csv', 'Data/tns_search (9).csv']\n"
   ]
  },
  {
   "cell_type": "code",
   "execution_count": 28,
   "metadata": {},
   "outputs": [],
   "source": [
    "df_append = pd.DataFrame()\n",
    "\n",
    "#append all files together\n",
    "for file in csv_files:\n",
    "    df_temp = pd.read_csv(file)\n",
    "    df_append = pd.concat([df_append, df_temp], ignore_index=True)\n"
   ]
  },
  {
   "cell_type": "code",
   "execution_count": 29,
   "metadata": {},
   "outputs": [],
   "source": [
    "df_append.to_csv(\"Data/ZTF_info.csv\")"
   ]
  },
  {
   "cell_type": "code",
   "execution_count": 240,
   "metadata": {},
   "outputs": [],
   "source": [
    "import pandas as pd\n",
    "\n",
    "info = pd.read_csv(\"Data/ZTF_info.csv\")\n"
   ]
  },
  {
   "cell_type": "code",
   "execution_count": 241,
   "metadata": {},
   "outputs": [],
   "source": [
    "from astropy.time import Time\n",
    "\n",
    "times = Time(list(info[\"Discovery Date (UT)\"]), format = \"iso\", scale='utc')\n",
    "times_JD = times.jd\n",
    "times_JD_start = times_JD - 100\n",
    "times_JD_end = times_JD + 500"
   ]
  },
  {
   "cell_type": "code",
   "execution_count": 242,
   "metadata": {},
   "outputs": [],
   "source": [
    "from astropy.coordinates import SkyCoord\n",
    "from astropy import units as u\n",
    "ra_dec = SkyCoord(info[\"RA\"].values, info[\"DEC\"].values, unit=(u.hourangle, u.deg))\n",
    "ra_degree = ra_dec.ra.degree\n",
    "dec_degree = ra_dec.dec.degree"
   ]
  },
  {
   "cell_type": "code",
   "execution_count": 245,
   "metadata": {},
   "outputs": [],
   "source": [
    "import numpy as np\n",
    "\n",
    "nan_names = (info[\"Disc. Internal Name\"].values != \"nan\")\n",
    "downloading_info = np.column_stack((info[\"Disc. Internal Name\"].values[nan_names], ra_degree[nan_names], dec_degree[nan_names], times_JD_start[nan_names], times_JD_end[nan_names]))\n",
    "np.savetxt(\"ZTF_api/ZTF_info.txt\", downloading_info, fmt = \"%s\")"
   ]
  },
  {
   "cell_type": "code",
   "execution_count": 8,
   "metadata": {},
   "outputs": [],
   "source": [
    "import os\n",
    "\n",
    "# Specify the directory where the files are located\n",
    "directory = \"Data/ATLAS_forced_photometry_data/\"\n",
    "\n",
    "# Loop through each file in the directory\n",
    "for filename in os.listdir(directory):\n",
    "    # Check if the file matches the pattern \"SN xxxx.csv\"\n",
    "    if filename.startswith(\"SN \") and filename.endswith(\".csv\"):\n",
    "        # Create the new filename by replacing the space with an underscore\n",
    "        new_filename = filename.replace(\" \", \"_\")\n",
    "        \n",
    "        # Get the full path of the old and new filenames\n",
    "        old_file = os.path.join(directory, filename)\n",
    "        new_file = os.path.join(directory, new_filename)\n",
    "        \n",
    "        # Rename the file\n",
    "        os.rename(old_file, new_file)\n"
   ]
  },
  {
   "cell_type": "code",
   "execution_count": 35,
   "metadata": {},
   "outputs": [],
   "source": [
    "import numpy as np\n",
    "\n",
    "atlas_id = \"SN_2024gvz\"\n",
    "atlas_data =  np.loadtxt(f\"Data/ATLAS_forced_photometry_data/cleaned_and_stacked/{atlas_id}_atlas_fp_stacked_2_days.txt\", delimiter = \",\", dtype = str)"
   ]
  },
  {
   "cell_type": "code",
   "execution_count": 36,
   "metadata": {},
   "outputs": [],
   "source": [
    "time = atlas_data[1:, 0].astype(np.float32)\n",
    "flux = atlas_data[1:, 1].astype(np.float32)\n",
    "fluxerr = atlas_data[1:, 2].astype(np.float32)\n",
    "filter = atlas_data[1:, 3].astype(str)"
   ]
  },
  {
   "cell_type": "code",
   "execution_count": 37,
   "metadata": {},
   "outputs": [],
   "source": [
    "delete_indices = np.where(fluxerr > 40)\n",
    "\n",
    "time = np.delete(time, delete_indices)\n",
    "flux = np.delete(flux, delete_indices)\n",
    "fluxerr = np.delete(fluxerr, delete_indices)\n",
    "filter = np.delete(filter, delete_indices)\n",
    "\n",
    "filter_f1 = np.where(filter == \"o\")\n",
    "filter_f2 = np.where(filter == \"c\")\n",
    "\n",
    "time = np.concatenate((time[filter_f1], time[filter_f2]))\n",
    "flux = np.concatenate((flux[filter_f1], flux[filter_f2]))\n",
    "fluxerr = np.concatenate((fluxerr[filter_f1], fluxerr[filter_f2]))\n",
    "filter = np.concatenate(([\"o\"] * len(filter[filter_f1]), [\"c\"] * len(filter[filter_f2])))\n",
    "\n",
    "filter_f1 = np.where(filter == \"o\")\n",
    "filter_f2 = np.where(filter == \"c\")"
   ]
  },
  {
   "cell_type": "code",
   "execution_count": 1,
   "metadata": {},
   "outputs": [],
   "source": [
    "def find_baseline(time, flux, filter_f1, filter_f2):\n",
    "\n",
    "    past_and_future_epochs = {\"Past Future f1\":[], \"Past Future f2\":[], \"SN extremes\":[]}\n",
    "\n",
    "    # Past\n",
    "    for filter_number, filter_idx in enumerate([filter_f1, filter_f2]):\n",
    "\n",
    "        time_filter, flux_filter = time[filter_idx], flux[filter_idx]\n",
    "\n",
    "        peak_idx = np.argmax(flux_filter)\n",
    "        num_to_cut = 0\n",
    "        \n",
    "        # Check if there is pre-peak data \n",
    "        if peak_idx == 0:\n",
    "            past_and_future_epochs[\"SN extremes\"].extend([filter_idx[0][0]])\n",
    "            continue\n",
    "\n",
    "        # Slope at which the data is no longer constant\n",
    "        m_cutoff = 0.2 * np.abs((flux_filter[0] - flux_filter[peak_idx]) / (time_filter[0] - time_filter[peak_idx]))\n",
    "\n",
    "        #Calculate the slope of all data before the peak\n",
    "        for cut_idx in range(1, peak_idx):\n",
    "\n",
    "            m = np.abs((flux_filter[0] - flux_filter[cut_idx]) / (time_filter[0] - time_filter[cut_idx]))\n",
    "\n",
    "            if m < m_cutoff:\n",
    "                num_to_cut = cut_idx\n",
    "\n",
    "        if num_to_cut > 0:\n",
    "            past_and_future_epochs[f\"Past Future f{filter_number + 1}\"].extend(filter_idx[0][:(num_to_cut + 1)])\n",
    "            past_and_future_epochs[\"SN extremes\"].extend([filter_idx[0][num_to_cut]])\n",
    "\n",
    "        # There is no pre-supernova data\n",
    "        else:\n",
    "            past_and_future_epochs[\"SN extremes\"].extend([filter_idx[0][0]])\n",
    "\n",
    "    # Future\n",
    "    for filter_number, filter_idx in enumerate([filter_f1, filter_f2]):\n",
    "\n",
    "        time_filter, flux_filter = time[filter_idx], flux[filter_idx]\n",
    "\n",
    "        peak_idx = np.argmax(flux_filter)\n",
    "        first_post_peak_idx = len(flux_filter) - np.argmax(flux_filter)\n",
    "        num_to_cut = 0\n",
    "        \n",
    "        # Check if there is post-peak data \n",
    "        if peak_idx == len(flux_filter) - 1:\n",
    "            past_and_future_epochs[\"SN extremes\"].extend([filter_idx[0][len(flux_filter) - 1]])\n",
    "            continue\n",
    "\n",
    "        # Slope at which the data is no longer constant\n",
    "        m_cutoff = 0.2 * np.abs((flux_filter[-1] - flux_filter[peak_idx]) / (time_filter[-1] - time_filter[peak_idx]))\n",
    "\n",
    "        #Calculate the slope of all data before the peak\n",
    "        for idx in range(2, first_post_peak_idx):\n",
    "            \n",
    "            cut_idx = -1 * idx\n",
    "            m = np.abs((flux_filter[-1] - flux_filter[cut_idx]) / (time_filter[-1] - time_filter[cut_idx]))\n",
    "\n",
    "            if m < m_cutoff:\n",
    "                num_to_cut = idx\n",
    "\n",
    "        if num_to_cut > 0:\n",
    "            past_and_future_epochs[f\"Past Future f{filter_number + 1}\"].extend(filter_idx[0][-num_to_cut:])\n",
    "            past_and_future_epochs[\"SN extremes\"].extend([filter_idx[0][-num_to_cut]])\n",
    "\n",
    "        # There is no post-supernova data\n",
    "        else:\n",
    "            past_and_future_epochs[\"SN extremes\"].extend([filter_idx[0][len(flux_filter) - 1]])\n",
    "    \n",
    "    return past_and_future_epochs"
   ]
  },
  {
   "cell_type": "code",
   "execution_count": 46,
   "metadata": {},
   "outputs": [
    {
     "data": {
      "text/plain": [
       "[15, 54, 45, 61]"
      ]
     },
     "execution_count": 46,
     "metadata": {},
     "output_type": "execute_result"
    }
   ],
   "source": [
    "past_and_future = find_baseline(time, flux, filter_f1, filter_f2)\n",
    "past_and_future[\"SN extremes\"]"
   ]
  },
  {
   "cell_type": "code",
   "execution_count": 4,
   "metadata": {},
   "outputs": [],
   "source": [
    "def subtract_baseline(flux, filter_f1, filter_f2, past_and_future_epochs):\n",
    "\n",
    "    if len(past_and_future_epochs[\"Past Future f1\"]) != 0:\n",
    "\n",
    "        average_flux_baseline_f1 = np.mean(flux[past_and_future_epochs[\"Past Future f1\"]])\n",
    "\n",
    "        flux[filter_f1] -= average_flux_baseline_f1\n",
    "\n",
    "    if len(past_and_future_epochs[\"Past Future f2\"]) != 0:\n",
    "\n",
    "        average_flux_baseline_f2 = np.mean(flux[past_and_future_epochs[\"Past Future f2\"]])\n",
    "\n",
    "        flux[filter_f2] -= average_flux_baseline_f2\n",
    "\n",
    "    return flux"
   ]
  },
  {
   "cell_type": "code",
   "execution_count": 269,
   "metadata": {},
   "outputs": [],
   "source": [
    "flux = subtract_baseline(flux, filter_f1, filter_f2, past_and_future)"
   ]
  },
  {
   "cell_type": "code",
   "execution_count": 273,
   "metadata": {},
   "outputs": [
    {
     "data": {
      "image/png": "[encoded data removed]",
      "text/plain": [
       "<Figure size 640x480 with 1 Axes>"
      ]
     },
     "metadata": {},
     "output_type": "display_data"
    }
   ],
   "source": [
    "import matplotlib.pyplot as plt\n",
    "\n",
    "# extremes = past_and_future[\"SN extremes\"]\n",
    "\n",
    "# time *= 1 / (1 + 0.055)\n",
    "# print(extremes)\n",
    "\n",
    "confident_detections = flux/fluxerr > 3\n",
    "\n",
    "plt.scatter(time[filter_f1], flux[filter_f1], c = \"tab:blue\", alpha = 0.3)\n",
    "plt.scatter(time[filter_f2], flux[filter_f2], c = \"tab:orange\", alpha = 0.3)\n",
    "\n",
    "plt.scatter(time[confident_detections], flux[confident_detections], c = \"tab:blue\")\n",
    "plt.scatter(time[confident_detections], flux[confident_detections], c = \"tab:orange\")\n",
    "\n",
    "plt.show()\n",
    "\n",
    "# if time[extremes[0]] < time[extremes[1]]:\n",
    "#     time_first_detection = time[extremes[0]]\n",
    "#     time -= time_first_detection\n",
    "\n",
    "# else: \n",
    "#     time_first_detection = time[extremes[1]]\n",
    "#     time -= time_first_detection\n",
    "\n",
    "# print(time_first_detection)\n",
    "\n",
    "# o_values = np.where(filter == \"o\")\n",
    "# plt.errorbar(time[o_values], flux[o_values], yerr = fluxerr[o_values], fmt = \"o\", markersize = 4, capsize = 2, color = \"tab:blue\", label = \"Band: o\")\n",
    "\n",
    "# c_values = np.where(filter == \"c\")\n",
    "# plt.errorbar(time[c_values], flux[c_values], yerr = fluxerr[c_values], fmt = \"o\", markersize = 4, capsize = 2, color = \"tab:orange\", label = \"Band: c\")\n",
    "\n",
    "# plt.xlabel(\"Days since first detection\", fontsize = 13)\n",
    "# plt.ylabel(\"Flux $(\\mu Jy)$\", fontsize = 13)\n",
    "# plt.title(f\"Light curve of SN .\")\n",
    "# plt.grid(alpha = 0.3)\n",
    "# plt.legend()\n",
    "# plt.show()\n",
    "\n",
    "# print(time[extremes])\n"
   ]
  },
  {
   "cell_type": "code",
   "execution_count": 47,
   "metadata": {},
   "outputs": [],
   "source": [
    "import numpy as np\n",
    "\n",
    "# ztf_data =  np.load(\"forcedphotometry_req00387499_lc.txt\")\n",
    "\n",
    "with open(\"Data/ZTF_forced_photometry_data/raw/ZTF19aasekcx.txt\") as f:\n",
    "    lines = (line for line in f if not line.startswith('#'))\n",
    "    ztf_data = np.genfromtxt(lines, skip_header = 1, missing_values = \"null\", dtype = \"str\")\n"
   ]
  },
  {
   "cell_type": "code",
   "execution_count": 48,
   "metadata": {},
   "outputs": [
    {
     "data": {
      "text/plain": [
       "(377, 377)"
      ]
     },
     "execution_count": 48,
     "metadata": {},
     "output_type": "execute_result"
    }
   ],
   "source": [
    "time = np.array(ztf_data[:, 22])\n",
    "differential_flux = np.array(ztf_data[:, 24])\n",
    "differential_fluxerr = np.array(ztf_data[:, 25])\n",
    "zero_point = np.array(ztf_data[:, 20])\n",
    "reduced_chi_squared = np.array(ztf_data[:, 27])\n",
    "filter = np.array(ztf_data[:, 4])\n",
    "\n",
    "infobitssci = np.array(ztf_data[:, 6]).astype(np.float32)\n",
    "scisigpix = np.array(ztf_data[:, 9]).astype(np.float32)\n",
    "sciinpseeing = np.array(ztf_data[:, 7]).astype(np.float32)\n",
    "\n",
    "missing_data = np.where(differential_flux == \"null\")[0]\n",
    "bad_infobitssci = np.where(infobitssci > 0)[0]\n",
    "bad_scisigpix = np.where(scisigpix > 25)[0]\n",
    "bad_sciinpseeing = np.where(sciinpseeing > 4)[0]\n",
    "\n",
    "indices_to_delete = np.sort(np.unique(np.concatenate((missing_data, bad_infobitssci, bad_scisigpix, bad_sciinpseeing))))\n",
    "\n",
    "time = np.delete(time, indices_to_delete).astype(np.float32) -  2400000.5\n",
    "differential_flux = np.delete(differential_flux, indices_to_delete).astype(np.float32) / 10\n",
    "differential_fluxerr = np.delete(differential_fluxerr, indices_to_delete).astype(np.float32) / 10\n",
    "zero_point = np.delete(zero_point, indices_to_delete).astype(np.float32)\n",
    "reduced_chi_squared = np.delete(reduced_chi_squared, indices_to_delete).astype(np.float32)\n",
    "filter = np.delete(filter, indices_to_delete)\n",
    "\n",
    "filter_f1 = np.where(filter == \"ZTF_r\")\n",
    "filter_f2 = np.where(filter == \"ZTF_g\")\n",
    "\n",
    "len(differential_fluxerr), len(zero_point)"
   ]
  },
  {
   "cell_type": "code",
   "execution_count": 49,
   "metadata": {},
   "outputs": [
    {
     "data": {
      "text/plain": [
       "(326, 326)"
      ]
     },
     "execution_count": 49,
     "metadata": {},
     "output_type": "execute_result"
    }
   ],
   "source": [
    "time = np.concatenate((time[filter_f1], time[filter_f2]))\n",
    "differential_flux = np.concatenate((differential_flux[filter_f1], differential_flux[filter_f2]))\n",
    "differential_fluxerr = np.concatenate((differential_fluxerr[filter_f1], differential_fluxerr[filter_f2]))\n",
    "zero_point = np.concatenate((zero_point[filter_f1], zero_point[filter_f2]))\n",
    "reduced_chi_squared = np.concatenate((reduced_chi_squared[filter_f1], reduced_chi_squared[filter_f2]))\n",
    "filter = np.concatenate(([\"r\"] * len(filter[filter_f1]), [\"g\"] * len(filter[filter_f2])))\n",
    "\n",
    "filter_f1 = np.where(filter == \"r\")\n",
    "filter_f2 = np.where(filter == \"g\")\n",
    "\n",
    "len(differential_fluxerr), len(zero_point)"
   ]
  },
  {
   "cell_type": "code",
   "execution_count": 50,
   "metadata": {},
   "outputs": [
    {
     "name": "stderr",
     "output_type": "stream",
     "text": [
      "/tmp/ipykernel_5341/2220984027.py:58: RuntimeWarning: divide by zero encountered in float_scalars\n",
      "  m = np.abs((flux_filter[-1] - flux_filter[cut_idx]) / (time_filter[-1] - time_filter[cut_idx]))\n"
     ]
    }
   ],
   "source": [
    "past_and_future = find_baseline(time, differential_flux, filter_f1, filter_f2)\n",
    "differential_flux = subtract_baseline(differential_flux, filter_f1, filter_f2, past_and_future)"
   ]
  },
  {
   "cell_type": "code",
   "execution_count": 51,
   "metadata": {},
   "outputs": [
    {
     "data": {
      "text/plain": [
       "{'Past Future f1': [0,\n",
       "  1,\n",
       "  2,\n",
       "  3,\n",
       "  4,\n",
       "  5,\n",
       "  6,\n",
       "  7,\n",
       "  8,\n",
       "  9,\n",
       "  10,\n",
       "  11,\n",
       "  12,\n",
       "  13,\n",
       "  14,\n",
       "  15,\n",
       "  16,\n",
       "  17,\n",
       "  56,\n",
       "  57,\n",
       "  58,\n",
       "  59,\n",
       "  60,\n",
       "  61,\n",
       "  62,\n",
       "  63,\n",
       "  64,\n",
       "  65,\n",
       "  66,\n",
       "  67,\n",
       "  68,\n",
       "  69,\n",
       "  70,\n",
       "  71,\n",
       "  72,\n",
       "  73,\n",
       "  74,\n",
       "  75,\n",
       "  76,\n",
       "  77,\n",
       "  78,\n",
       "  79,\n",
       "  80,\n",
       "  81,\n",
       "  82,\n",
       "  83,\n",
       "  84,\n",
       "  85,\n",
       "  86,\n",
       "  87,\n",
       "  88,\n",
       "  89,\n",
       "  90,\n",
       "  91,\n",
       "  92,\n",
       "  93,\n",
       "  94,\n",
       "  95,\n",
       "  96,\n",
       "  97,\n",
       "  98,\n",
       "  99,\n",
       "  100,\n",
       "  101,\n",
       "  102,\n",
       "  103,\n",
       "  104,\n",
       "  105,\n",
       "  106,\n",
       "  107,\n",
       "  108,\n",
       "  109,\n",
       "  110,\n",
       "  111,\n",
       "  112,\n",
       "  113,\n",
       "  114,\n",
       "  115,\n",
       "  116,\n",
       "  117,\n",
       "  118,\n",
       "  119,\n",
       "  120,\n",
       "  121,\n",
       "  122,\n",
       "  123,\n",
       "  124,\n",
       "  125,\n",
       "  126,\n",
       "  127,\n",
       "  128,\n",
       "  129,\n",
       "  130,\n",
       "  131,\n",
       "  132,\n",
       "  133,\n",
       "  134,\n",
       "  135,\n",
       "  136,\n",
       "  137,\n",
       "  138,\n",
       "  139,\n",
       "  140,\n",
       "  141,\n",
       "  142,\n",
       "  143,\n",
       "  144,\n",
       "  145,\n",
       "  146,\n",
       "  147,\n",
       "  148,\n",
       "  149,\n",
       "  150,\n",
       "  151,\n",
       "  152,\n",
       "  153,\n",
       "  154,\n",
       "  155,\n",
       "  156,\n",
       "  157,\n",
       "  158,\n",
       "  159,\n",
       "  160,\n",
       "  161,\n",
       "  162,\n",
       "  163,\n",
       "  164,\n",
       "  165,\n",
       "  166,\n",
       "  167,\n",
       "  168,\n",
       "  169,\n",
       "  170,\n",
       "  171,\n",
       "  172,\n",
       "  173,\n",
       "  174,\n",
       "  175,\n",
       "  176,\n",
       "  177],\n",
       " 'Past Future f2': [178,\n",
       "  179,\n",
       "  180,\n",
       "  181,\n",
       "  182,\n",
       "  183,\n",
       "  184,\n",
       "  185,\n",
       "  186,\n",
       "  187,\n",
       "  188,\n",
       "  189,\n",
       "  190,\n",
       "  191,\n",
       "  192,\n",
       "  193,\n",
       "  194,\n",
       "  195,\n",
       "  196,\n",
       "  197,\n",
       "  198,\n",
       "  199,\n",
       "  200,\n",
       "  201,\n",
       "  202,\n",
       "  203,\n",
       "  204,\n",
       "  205,\n",
       "  206,\n",
       "  207,\n",
       "  208,\n",
       "  209,\n",
       "  210,\n",
       "  211,\n",
       "  212,\n",
       "  213,\n",
       "  214,\n",
       "  215,\n",
       "  216,\n",
       "  217,\n",
       "  218,\n",
       "  222,\n",
       "  223,\n",
       "  224,\n",
       "  225,\n",
       "  226,\n",
       "  227,\n",
       "  228,\n",
       "  229,\n",
       "  230,\n",
       "  231,\n",
       "  232,\n",
       "  233,\n",
       "  234,\n",
       "  235,\n",
       "  236,\n",
       "  237,\n",
       "  238,\n",
       "  239,\n",
       "  240,\n",
       "  241,\n",
       "  242,\n",
       "  243,\n",
       "  244,\n",
       "  245,\n",
       "  246,\n",
       "  247,\n",
       "  248,\n",
       "  249,\n",
       "  250,\n",
       "  251,\n",
       "  252,\n",
       "  253,\n",
       "  254,\n",
       "  255,\n",
       "  256,\n",
       "  257,\n",
       "  258,\n",
       "  259,\n",
       "  260,\n",
       "  261,\n",
       "  262,\n",
       "  263,\n",
       "  264,\n",
       "  265,\n",
       "  266,\n",
       "  267,\n",
       "  268,\n",
       "  269,\n",
       "  270,\n",
       "  271,\n",
       "  272,\n",
       "  273,\n",
       "  274,\n",
       "  275,\n",
       "  276,\n",
       "  277,\n",
       "  278,\n",
       "  279,\n",
       "  280,\n",
       "  281,\n",
       "  282,\n",
       "  283,\n",
       "  284,\n",
       "  285,\n",
       "  286,\n",
       "  287,\n",
       "  288,\n",
       "  289,\n",
       "  290,\n",
       "  291,\n",
       "  292,\n",
       "  293,\n",
       "  294,\n",
       "  295,\n",
       "  296,\n",
       "  297,\n",
       "  298,\n",
       "  299,\n",
       "  300,\n",
       "  301,\n",
       "  302,\n",
       "  303,\n",
       "  304,\n",
       "  305,\n",
       "  306,\n",
       "  307,\n",
       "  308,\n",
       "  309,\n",
       "  310,\n",
       "  311,\n",
       "  312,\n",
       "  313,\n",
       "  314,\n",
       "  315,\n",
       "  316,\n",
       "  317,\n",
       "  318,\n",
       "  319,\n",
       "  320,\n",
       "  321,\n",
       "  322,\n",
       "  323,\n",
       "  324,\n",
       "  325],\n",
       " 'SN extremes': [17, 218, 56, 222]}"
      ]
     },
     "execution_count": 51,
     "metadata": {},
     "output_type": "execute_result"
    }
   ],
   "source": [
    "past_and_future"
   ]
  },
  {
   "cell_type": "code",
   "execution_count": 29,
   "metadata": {},
   "outputs": [],
   "source": [
    "def check_flux_uncertainties(fluxerr, reduced_chi_squared):\n",
    "\n",
    "    average_reduced_chi_squared = np.mean(reduced_chi_squared)\n",
    "\n",
    "    if not np.isclose(average_reduced_chi_squared, 1, 0.5):\n",
    "\n",
    "        fluxerr *= np.sqrt(average_reduced_chi_squared)\n",
    "\n",
    "    return fluxerr"
   ]
  },
  {
   "cell_type": "code",
   "execution_count": 30,
   "metadata": {},
   "outputs": [],
   "source": [
    "differential_fluxerr = check_flux_uncertainties(differential_fluxerr, reduced_chi_squared)"
   ]
  },
  {
   "cell_type": "code",
   "execution_count": 31,
   "metadata": {},
   "outputs": [],
   "source": [
    "def ztf_flux_to_magnitude(flux, fluxerr, zero_point):\n",
    "\n",
    "    mag = np.empty(len(flux))\n",
    "    magerr = np.empty(len(flux))\n",
    "\n",
    "    confident_detections = flux/fluxerr > 3\n",
    "\n",
    "    mag[confident_detections] = zero_point[confident_detections] - 2.5 * np.log10(10 * flux[confident_detections])\n",
    "    magerr[confident_detections] = 1.0857 * fluxerr[confident_detections] / flux[confident_detections]\n",
    "\n",
    "    mag[~confident_detections] = zero_point[~confident_detections] - 2.5 * np.log10(10 * 5 * fluxerr[~confident_detections])\n",
    "    magerr[~confident_detections] = 0\n",
    "\n",
    "    return mag, magerr"
   ]
  },
  {
   "cell_type": "code",
   "execution_count": 32,
   "metadata": {},
   "outputs": [],
   "source": [
    "mag, magerr = ztf_flux_to_magnitude(differential_flux, differential_fluxerr, zero_point)"
   ]
  },
  {
   "cell_type": "code",
   "execution_count": 33,
   "metadata": {},
   "outputs": [
    {
     "data": {
      "text/plain": [
       "(326, 4)"
      ]
     },
     "execution_count": 33,
     "metadata": {},
     "output_type": "execute_result"
    }
   ],
   "source": [
    "SN_data = np.column_stack((time, differential_flux, differential_fluxerr, filter))\n",
    "np.shape(SN_data)"
   ]
  },
  {
   "cell_type": "code",
   "execution_count": 34,
   "metadata": {},
   "outputs": [
    {
     "data": {
      "image/png": "[encoded data removed]",
      "text/plain": [
       "<Figure size 640x480 with 1 Axes>"
      ]
     },
     "metadata": {},
     "output_type": "display_data"
    }
   ],
   "source": [
    "import matplotlib.pyplot as plt\n",
    "\n",
    "plt.errorbar(time[filter_f1], differential_flux[filter_f1], differential_fluxerr[filter_f1], fmt = \"o\", markersize = 4, capsize = 2, color = \"tab:blue\", alpha = 0.3)\n",
    "plt.errorbar(time[filter_f2], differential_flux[filter_f2], differential_fluxerr[filter_f2], fmt = \"o\", markersize = 4, capsize = 2, color = \"tab:orange\", alpha = 0.3)\n",
    "\n",
    "plt.scatter(time[past_and_future[\"Past Future f1\"]], differential_flux[past_and_future[\"Past Future f1\"]], c = \"tab:blue\")\n",
    "plt.scatter(time[past_and_future[\"Past Future f2\"]], differential_flux[past_and_future[\"Past Future f2\"]], c = \"tab:orange\")\n",
    "\n",
    "plt.show()"
   ]
  },
  {
   "cell_type": "code",
   "execution_count": 16,
   "metadata": {},
   "outputs": [
    {
     "data": {
      "image/png": "[encoded data removed]",
      "text/plain": [
       "<Figure size 640x480 with 1 Axes>"
      ]
     },
     "metadata": {},
     "output_type": "display_data"
    }
   ],
   "source": [
    "plt.errorbar(time[filter_f1], mag[filter_f1], magerr[filter_f1], fmt = \"o\", markersize = 4, capsize = 2, color = \"tab:blue\", alpha = 0.3)\n",
    "plt.errorbar(time[filter_f2], mag[filter_f2], magerr[filter_f2], fmt = \"o\", markersize = 4, capsize = 2, color = \"tab:orange\", alpha = 0.3)\n",
    "\n",
    "plt.gca().invert_yaxis()\n",
    "\n",
    "plt.show()"
   ]
  },
  {
   "cell_type": "code",
   "execution_count": 12,
   "metadata": {},
   "outputs": [
    {
     "data": {
      "text/plain": [
       "array([ 17, 218,  56, 222])"
      ]
     },
     "execution_count": 12,
     "metadata": {},
     "output_type": "execute_result"
    }
   ],
   "source": [
    "from data_processing import ztf_load_data, atlas_load_data\n",
    "\n",
    "time, flux, fluxerr, filters, boundaries = ztf_load_data(\"ZTF19aasekcx\")\n",
    "\n",
    "filter_f1 = np.where(filters == \"r\")\n",
    "filter_f2 = np.where(filters == \"g\")\n",
    "\n",
    "boundaries = "
   ]
  },
  {
   "cell_type": "code",
   "execution_count": 11,
   "metadata": {},
   "outputs": [
    {
     "data": {
      "image/png": "[encoded data removed]",
      "text/plain": [
       "<Figure size 640x480 with 1 Axes>"
      ]
     },
     "metadata": {},
     "output_type": "display_data"
    }
   ],
   "source": [
    "import matplotlib.pyplot as plt\n",
    "\n",
    "time_SN = np.concatenate((time[boundaries[0] : boundaries[2] + 1], time[boundaries[1] : boundaries[3] + 1]))\n",
    "flux_SN = np.concatenate((flux[boundaries[0] : boundaries[2] + 1], flux[boundaries[1] : boundaries[3] + 1]))\n",
    "fluxerr_SN = np.concatenate((fluxerr[boundaries[0] : boundaries[2] + 1], fluxerr[boundaries[1] : boundaries[3] + 1]))\n",
    "filters_SN = np.concatenate((filters[boundaries[0] : boundaries[2] + 1], filters[boundaries[1] : boundaries[3] + 1]))\n",
    "\n",
    "filter_f1_SN = np.where(filters_SN == \"r\")\n",
    "filter_f2_SN = np.where(filters_SN == \"g\")\n",
    "\n",
    "plt.errorbar(time_SN[filter_f1_SN], flux_SN[filter_f1_SN], fluxerr_SN[filter_f1_SN], fmt = \"o\", markersize = 4, capsize = 2, color = \"tab:blue\")\n",
    "plt.errorbar(time_SN[filter_f2_SN], flux_SN[filter_f2_SN], fluxerr_SN[filter_f2_SN], fmt = \"o\", markersize = 4, capsize = 2, color = \"tab:orange\")\n",
    "\n",
    "plt.show()"
   ]
  },
  {
   "cell_type": "code",
   "execution_count": 3,
   "metadata": {},
   "outputs": [],
   "source": [
    "import numpy as np \n",
    "\n",
    "ztf_names_sn_Ia_CSM = np.loadtxt(\"Data/ZTF_SNe_Ia_CSM.txt\", delimiter = \",\", dtype = \"str\")\n",
    "ztf_names_sn_IIn = np.loadtxt(\"Data/ZTF_SNe_IIn.txt\", delimiter = \",\", dtype = \"str\")\n",
    "ztf_names = np.concatenate((ztf_names_sn_Ia_CSM, ztf_names_sn_IIn))\n",
    "\n",
    "atlas_names_sn_Ia_CSM = np.loadtxt(\"Data/ATLAS_SNe_Ia_CSM.txt\", delimiter = \",\", dtype = \"str\")\n",
    "atlas_names_sn_IIn = np.loadtxt(\"Data/ATLAS_SNe_IIn.txt\", delimiter = \",\", dtype = \"str\")\n",
    "atlas_names = np.concatenate((atlas_names_sn_Ia_CSM, atlas_names_sn_IIn))"
   ]
  },
  {
   "cell_type": "code",
   "execution_count": 54,
   "metadata": {},
   "outputs": [
    {
     "name": "stderr",
     "output_type": "stream",
     "text": [
      "/tmp/ipykernel_5341/2220984027.py:58: RuntimeWarning: divide by zero encountered in float_scalars\n",
      "  m = np.abs((flux_filter[-1] - flux_filter[cut_idx]) / (time_filter[-1] - time_filter[cut_idx]))\n",
      "/tmp/ipykernel_5341/2220984027.py:24: RuntimeWarning: divide by zero encountered in float_scalars\n",
      "  m = np.abs((flux_filter[0] - flux_filter[cut_idx]) / (time_filter[0] - time_filter[cut_idx]))\n"
     ]
    }
   ],
   "source": [
    "for name in ztf_names:\n",
    "\n",
    "    time, flux, fluxerr, filters, boundaries = ztf_load_data(name)\n",
    "\n",
    "    filter_f1 = np.where(filters == \"r\")\n",
    "    filter_f2 = np.where(filters == \"g\")\n",
    "\n",
    "    past_and_future = find_baseline(time, flux, filter_f1, filter_f2)\n",
    "\n",
    "    np.save(f\"Data/ZTF_forced_photometry_data/processed/{name}_extremes.npy\", past_and_future[\"SN extremes\"])"
   ]
  },
  {
   "cell_type": "code",
   "execution_count": 8,
   "metadata": {},
   "outputs": [],
   "source": [
    "for name in atlas_names:\n",
    "\n",
    "    time, flux, fluxerr, filters, boundaries = atlas_load_data(name)\n",
    "\n",
    "    filter_f1 = np.where(filters == \"o\")\n",
    "    filter_f2 = np.where(filters == \"c\")\n",
    "\n",
    "    past_and_future = find_baseline(time, flux, filter_f1, filter_f2)\n",
    "\n",
    "    np.save(f\"Data/ATLAS_forced_photometry_data/processed/{name}_extremes.npy\", past_and_future[\"SN extremes\"])"
   ]
  },
  {
   "cell_type": "code",
   "execution_count": null,
   "metadata": {},
   "outputs": [],
   "source": []
  }
 ],
 "metadata": {
  "kernelspec": {
   "display_name": "Python 3",
   "language": "python",
   "name": "python3"
  },
  "language_info": {
   "codemirror_mode": {
    "name": "ipython",
    "version": 3
   },
   "file_extension": ".py",
   "mimetype": "text/x-python",
   "name": "python",
   "nbconvert_exporter": "python",
   "pygments_lexer": "ipython3",
   "version": "3.8.10"
  }
 },
 "nbformat": 4,
 "nbformat_minor": 2
}
